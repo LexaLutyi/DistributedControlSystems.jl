{
 "cells": [
  {
   "cell_type": "code",
   "execution_count": 1,
   "id": "f5f0290c-a0e0-452b-93f7-e3d4e29f0d82",
   "metadata": {},
   "outputs": [
    {
     "name": "stderr",
     "output_type": "stream",
     "text": [
      "\u001b[36m\u001b[1m[ \u001b[22m\u001b[39m\u001b[36m\u001b[1mInfo: \u001b[22m\u001b[39mPrecompiling DistributedControlSystems [d14b68a6-6005-4866-9a10-8ceb977a395a]\n"
     ]
    }
   ],
   "source": [
    "using ControlSystems\n",
    "using DistributedControlSystems\n",
    "using RobustAndOptimalControl\n",
    "using LinearAlgebra\n",
    "using BlockArrays"
   ]
  },
  {
   "cell_type": "code",
   "execution_count": 2,
   "id": "7f420d13-0025-47c4-a509-16a1abf8526d",
   "metadata": {},
   "outputs": [
    {
     "data": {
      "text/plain": [
       "3×3 Matrix{Int64}:\n",
       "  1  2   3\n",
       " -1  2  -1\n",
       "  3  2   1"
      ]
     },
     "execution_count": 2,
     "metadata": {},
     "output_type": "execute_result"
    }
   ],
   "source": [
    "T = [\n",
    "    1 2 3\n",
    "    -1 2 -1\n",
    "    3 2 1\n",
    "]"
   ]
  },
  {
   "cell_type": "code",
   "execution_count": 3,
   "id": "01ac677f-80e8-4672-9ca1-98bd74ea1645",
   "metadata": {},
   "outputs": [
    {
     "data": {
      "text/plain": [
       "3-element Vector{ComplexF64}:\n",
       "               -2.0 + 0.0im\n",
       " 3.0000000000000013 - 1.7320508075688776im\n",
       " 3.0000000000000013 + 1.7320508075688776im"
      ]
     },
     "execution_count": 3,
     "metadata": {},
     "output_type": "execute_result"
    }
   ],
   "source": [
    "eigvals(T)"
   ]
  },
  {
   "cell_type": "code",
   "execution_count": 4,
   "id": "e57bd6c1-6f3a-420f-8540-116776ed1b6a",
   "metadata": {},
   "outputs": [
    {
     "data": {
      "text/plain": [
       "3-element Vector{Float64}:\n",
       " -1.618033988749895\n",
       " -1.3010426069826053e-16\n",
       "  0.6180339887498946"
      ]
     },
     "execution_count": 4,
     "metadata": {},
     "output_type": "execute_result"
    }
   ],
   "source": [
    "A = T * Float64[\n",
    "    0 1 0\n",
    "    1 -1 1\n",
    "    0 0 0\n",
    "] * inv(T)\n",
    "\n",
    "eigvals(A)"
   ]
  },
  {
   "cell_type": "code",
   "execution_count": 5,
   "id": "4f822f33-c91a-4d34-b304-f547a7f98338",
   "metadata": {},
   "outputs": [
    {
     "data": {
      "text/plain": [
       "2-element Vector{Array{Float64}}:\n",
       " [2.0 2.0; -2.0 2.0; 6.0 2.0]\n",
       " [3.0, -1.0, 1.0]"
      ]
     },
     "execution_count": 5,
     "metadata": {},
     "output_type": "execute_result"
    }
   ],
   "source": [
    "B = T * Float64[\n",
    "    2 0\n",
    "    0 1\n",
    "    0 0\n",
    "]\n",
    "B2 = T * Float64[0, 0, 1]\n",
    "Bs = [B, B2]"
   ]
  },
  {
   "cell_type": "code",
   "execution_count": 6,
   "id": "2eb788b5-1159-4b70-85bf-4c41d068eee9",
   "metadata": {},
   "outputs": [
    {
     "data": {
      "text/plain": [
       "2-element Vector{Matrix{Float64}}:\n",
       " [-0.16666666666666666 -0.16666666666666669 0.3333333333333333]\n",
       " [0.3333333333333333 -0.16666666666666666 -0.16666666666666666]"
      ]
     },
     "execution_count": 6,
     "metadata": {},
     "output_type": "execute_result"
    }
   ],
   "source": [
    "C = [1. 0 0] * inv(T)\n",
    "C2 = [0. 0 1] * inv(T)\n",
    "Cs = [C, C2]"
   ]
  },
  {
   "cell_type": "code",
   "execution_count": 7,
   "id": "36643092-5559-45e5-87c1-0e778bca10e9",
   "metadata": {},
   "outputs": [
    {
     "data": {
      "text/plain": [
       "3-element Vector{Float64}:\n",
       "  0.6180339887498946\n",
       " -1.3010426069826053e-16\n",
       " -1.618033988749895"
      ]
     },
     "execution_count": 7,
     "metadata": {},
     "output_type": "execute_result"
    }
   ],
   "source": [
    "sys = ss(A, B, C, 0)\n",
    "poles(sys)"
   ]
  },
  {
   "cell_type": "code",
   "execution_count": 8,
   "id": "5512b0a8-d3c0-4373-8898-23855512863b",
   "metadata": {},
   "outputs": [
    {
     "data": {
      "text/plain": [
       "StateSpaceDistributed{Matrix{Float64}, BlockMatrix{Float64, Matrix{Matrix{Float64}}, Tuple{BlockedUnitRange{Vector{Int64}}, BlockedUnitRange{Vector{Int64}}}}, BlockMatrix{Float64, Matrix{Matrix{Float64}}, Tuple{BlockedUnitRange{Vector{Int64}}, BlockedUnitRange{Vector{Int64}}}}, BlockMatrix{Float64, Matrix{Matrix{Float64}}, Tuple{BlockedUnitRange{Vector{Int64}}, BlockedUnitRange{Vector{Int64}}}}}([0.25 -1.0 0.24999999999999994; 0.08333333333333337 -1.6666666666666667 0.08333333333333331; 0.41666666666666663 -0.33333333333333337 0.4166666666666667], [2.0 2.0 3.0; -2.0 2.0 -1.0; 6.0 2.0 1.0], [-0.16666666666666666 -0.16666666666666669 0.3333333333333333; 0.3333333333333333 -0.16666666666666666 -0.16666666666666666], [0.0 0.0 0.0; 0.0 0.0 0.0])"
      ]
     },
     "execution_count": 8,
     "metadata": {},
     "output_type": "execute_result"
    }
   ],
   "source": [
    "ssd = StateSpaceDistributed(A, Bs, Cs)"
   ]
  },
  {
   "cell_type": "code",
   "execution_count": 9,
   "id": "d570c69b-3a64-469b-8c08-23a9182f8965",
   "metadata": {},
   "outputs": [
    {
     "data": {
      "text/plain": [
       "2-element Vector{Vector{ComplexF64}}:\n",
       " [0.0 + 0.0im]\n",
       " [-1.6180339887 + 0.0im, 0.6180339887 + 0.0im]"
      ]
     },
     "execution_count": 9,
     "metadata": {},
     "output_type": "execute_result"
    }
   ],
   "source": [
    "modes(ssd)"
   ]
  },
  {
   "cell_type": "code",
   "execution_count": 10,
   "id": "93497ecb-bb4c-4aa6-b751-f11b2a8f4db1",
   "metadata": {},
   "outputs": [
    {
     "data": {
      "text/plain": [
       "ComplexF64[]"
      ]
     },
     "execution_count": 10,
     "metadata": {},
     "output_type": "execute_result"
    }
   ],
   "source": [
    "fixed_modes(ssd)"
   ]
  },
  {
   "cell_type": "code",
   "execution_count": 11,
   "id": "025b2fef-5542-4e2f-8c81-20cac3854004",
   "metadata": {},
   "outputs": [
    {
     "data": {
      "text/plain": [
       "StateSpaceDistributed{Matrix{Float64}, BlockMatrix{Float64, Matrix{Matrix{Float64}}, Tuple{BlockedUnitRange{Vector{Int64}}, BlockedUnitRange{Vector{Int64}}}}, BlockMatrix{Float64, Matrix{Matrix{Float64}}, Tuple{BlockedUnitRange{Vector{Int64}}, BlockedUnitRange{Vector{Int64}}}}, BlockMatrix{Float64, Matrix{Matrix{Float64}}, Tuple{BlockedUnitRange{Vector{Int64}}, BlockedUnitRange{Vector{Int64}}}}}([0.25 -1.0 0.24999999999999994; 0.08333333333333337 -1.6666666666666667 0.08333333333333331; 0.41666666666666663 -0.33333333333333337 0.4166666666666667], [6.0 2.0 1.0; -2.0 2.0 -1.0; 2.0 2.0 3.0], [0.3333333333333333 -0.16666666666666669 -0.16666666666666666; -0.16666666666666666 -0.16666666666666666 0.3333333333333333], [0.0 0.0 0.0; 0.0 0.0 0.0])"
      ]
     },
     "execution_count": 11,
     "metadata": {},
     "output_type": "execute_result"
    }
   ],
   "source": [
    "ssd2 = StateSpaceDistributed(\n",
    "    ssd.A,\n",
    "    reverse(ssd.B, dims=1),\n",
    "    reverse(ssd.C, dims=2),\n",
    "    reverse(ssd.D, dims=(1, 2)),\n",
    ")"
   ]
  },
  {
   "cell_type": "code",
   "execution_count": 12,
   "id": "db723ee1-866c-44f4-b131-b608bd82a2fd",
   "metadata": {},
   "outputs": [
    {
     "data": {
      "text/plain": [
       "2-element Vector{Vector{ComplexF64}}:\n",
       " [-1.6180339887 + 0.0im, 0.6180339887 + 0.0im]\n",
       " [-0.0 + 0.0im]"
      ]
     },
     "execution_count": 12,
     "metadata": {},
     "output_type": "execute_result"
    }
   ],
   "source": [
    "modes(ssd2)"
   ]
  },
  {
   "cell_type": "code",
   "execution_count": 13,
   "id": "6af24f54-9073-43db-a59e-8d0519ac4aed",
   "metadata": {},
   "outputs": [
    {
     "data": {
      "text/plain": [
       "ComplexF64[]"
      ]
     },
     "execution_count": 13,
     "metadata": {},
     "output_type": "execute_result"
    }
   ],
   "source": [
    "fixed_modes(ssd2)"
   ]
  },
  {
   "cell_type": "code",
   "execution_count": 14,
   "id": "65c4f7b2-8c56-4073-aeae-323992384a67",
   "metadata": {},
   "outputs": [
    {
     "data": {
      "text/plain": [
       "(StateSpace{Continuous, Float64}[StateSpace{Continuous, Float64}\n",
       "A = \n",
       " -8.624594279853605   -0.042210950932454194\n",
       " -0.6665250199379624  -2.925482550283489\n",
       "B = \n",
       " -5.6612084196982275\n",
       " -2.2670598784252296\n",
       "C = \n",
       " -1.044450047287927   -0.024475130695713405\n",
       " -0.2957503004589669  -0.6088329303475555\n",
       "D = \n",
       " 0.0\n",
       " 0.0\n",
       "\n",
       "Continuous-time state-space model, StateSpace{Continuous, Float64}\n",
       "A = \n",
       " -2.8577380332470406\n",
       "B = \n",
       " -1.0\n",
       "C = \n",
       " -0.9999999999999999\n",
       "D = \n",
       " 0.0\n",
       "\n",
       "Continuous-time state-space model], [0.25 -1.0 … 1.2666161220865377 2.9999999999999996; 0.08333333333333337 -1.6666666666666667 … 1.1687155993036842 -0.9999999999999999; … ; 0.3778433130708716 0.37784331307087166 … -2.925482550283489 -0.0; -0.3333333333333333 0.16666666666666666 … 0.0 -2.8577380332470406])"
      ]
     },
     "execution_count": 14,
     "metadata": {},
     "output_type": "execute_result"
    }
   ],
   "source": [
    "dc, Acl = distributed_controllers(ssd)"
   ]
  },
  {
   "cell_type": "code",
   "execution_count": 15,
   "id": "1220eeeb-7768-4f31-882e-4976b6a9d30e",
   "metadata": {},
   "outputs": [
    {
     "data": {
      "text/plain": [
       "(StateSpace{Continuous, Float64}[StateSpace{Continuous, Float64}\n",
       "A = \n",
       " -5.30722777603022\n",
       "B = \n",
       " 1.0\n",
       "C = \n",
       "  1.0\n",
       " -9.064933036736788e-17\n",
       "D = \n",
       " 0.0\n",
       " 0.0\n",
       "\n",
       "Continuous-time state-space model, StateSpace{Continuous, Float64}\n",
       "A = \n",
       " -5.260483530696403     0.47480458403687653\n",
       "  0.20717927064795694  -1.126870874592368\n",
       "B = \n",
       " -5.661208419698209\n",
       " -2.2670598784252203\n",
       "C = \n",
       " -1.2359008849938513  -0.22515490155571588\n",
       "D = \n",
       " 0.0\n",
       "\n",
       "Continuous-time state-space model], [0.25 -1.0 … 1.2359008849938513 0.22515490155571588; 0.08333333333333337 -1.6666666666666667 … -1.2359008849938513 -0.22515490155571588; … ; 0.9435347366163681 0.9435347366163681 … -5.260483530696403 0.47480458403687653; 0.37784331307087005 0.37784331307087005 … 0.20717927064795694 -1.126870874592368])"
      ]
     },
     "execution_count": 15,
     "metadata": {},
     "output_type": "execute_result"
    }
   ],
   "source": [
    "dc2, Acl2 = distributed_controllers(ssd2)"
   ]
  },
  {
   "cell_type": "code",
   "execution_count": 16,
   "id": "e5935a7e-b3a2-4b1c-b39d-592b095bd1ed",
   "metadata": {},
   "outputs": [
    {
     "data": {
      "text/plain": [
       "6-element Vector{Float64}:\n",
       " -6.912489081277625\n",
       " -3.349252857163486\n",
       " -2.449489742783178\n",
       " -1.6475369481638107\n",
       " -0.6407979435321783\n",
       " -0.4082482904638645"
      ]
     },
     "execution_count": 16,
     "metadata": {},
     "output_type": "execute_result"
    }
   ],
   "source": [
    "Acl |> eigvals"
   ]
  },
  {
   "cell_type": "code",
   "execution_count": 17,
   "id": "71245097-b003-43a1-8794-2dd0f94ef87c",
   "metadata": {},
   "outputs": [
    {
     "data": {
      "text/plain": [
       "6-element Vector{Float64}:\n",
       " -4.898979485566361\n",
       " -3.256616537982939\n",
       " -1.8424029756098497\n",
       " -1.6475369481638085\n",
       " -0.6407979435321737\n",
       " -0.40824829046386557"
      ]
     },
     "execution_count": 17,
     "metadata": {},
     "output_type": "execute_result"
    }
   ],
   "source": [
    "Acl2 |> eigvals"
   ]
  }
 ],
 "metadata": {
  "kernelspec": {
   "display_name": "Julia 1.9.0",
   "language": "julia",
   "name": "julia-1.9"
  },
  "language_info": {
   "file_extension": ".jl",
   "mimetype": "application/julia",
   "name": "julia",
   "version": "1.9.0"
  }
 },
 "nbformat": 4,
 "nbformat_minor": 5
}
