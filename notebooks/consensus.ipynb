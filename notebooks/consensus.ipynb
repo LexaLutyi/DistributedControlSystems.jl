{
 "cells": [
  {
   "cell_type": "code",
   "execution_count": 142,
   "id": "58aea194-5a6c-43ef-acb0-57df5cb5897e",
   "metadata": {},
   "outputs": [],
   "source": [
    "using ControlSystems\n",
    "using DistributedControlSystems\n",
    "using RobustAndOptimalControl\n",
    "using LinearAlgebra\n",
    "using BlockArrays"
   ]
  },
  {
   "cell_type": "markdown",
   "id": "3e1478e5-b47c-49ed-a173-479a9a979dc8",
   "metadata": {},
   "source": [
    "# Проверка масштабируемости на задаче консенсуса.\n",
    "\n",
    "Оказалось, что уже при 10 агентах задача не решается.\n",
    "\n",
    "Это связано с ростом контроллера на каждой итерации, так как предыдущие контроллеры связали первых агентов с текущим:\n",
    "Они стали наблюдаемыми и управляемыми.\n",
    "\n",
    "Возможное решение - выделение нулевой динамики на каждой итерации. Если она устойчивая, то можно создать контроллер с размерностью равной относительному порядку."
   ]
  },
  {
   "cell_type": "code",
   "execution_count": 143,
   "id": "2c713ff8-8893-4f9b-b3d2-16f671fca401",
   "metadata": {},
   "outputs": [
    {
     "data": {
      "text/plain": [
       "1×2 Matrix{Int64}:\n",
       " 1  0"
      ]
     },
     "execution_count": 143,
     "metadata": {},
     "output_type": "execute_result"
    }
   ],
   "source": [
    "a = [\n",
    "    0 1\n",
    "    0 0\n",
    "]\n",
    "b = [\n",
    "    0\n",
    "    1\n",
    "]\n",
    "c = [1 0]"
   ]
  },
  {
   "cell_type": "code",
   "execution_count": 144,
   "id": "68a4778b-f21b-4fb2-b6a2-ede10574d71b",
   "metadata": {},
   "outputs": [
    {
     "data": {
      "text/plain": [
       "5"
      ]
     },
     "execution_count": 144,
     "metadata": {},
     "output_type": "execute_result"
    }
   ],
   "source": [
    "N = 5"
   ]
  },
  {
   "cell_type": "code",
   "execution_count": 145,
   "id": "3aa26222-9998-462f-8abd-060dd6574b8f",
   "metadata": {},
   "outputs": [
    {
     "data": {
      "text/plain": [
       "10×10 Matrix{Int64}:\n",
       " 0  1  0  0  0  0  0  0  0  0\n",
       " 0  0  0  0  0  0  0  0  0  0\n",
       " 0  0  0  1  0  0  0  0  0  0\n",
       " 0  0  0  0  0  0  0  0  0  0\n",
       " 0  0  0  0  0  1  0  0  0  0\n",
       " 0  0  0  0  0  0  0  0  0  0\n",
       " 0  0  0  0  0  0  0  1  0  0\n",
       " 0  0  0  0  0  0  0  0  0  0\n",
       " 0  0  0  0  0  0  0  0  0  1\n",
       " 0  0  0  0  0  0  0  0  0  0"
      ]
     },
     "execution_count": 145,
     "metadata": {},
     "output_type": "execute_result"
    }
   ],
   "source": [
    "A = kron(I(N), a)"
   ]
  },
  {
   "cell_type": "code",
   "execution_count": 146,
   "id": "1513e39c-e080-4f18-b854-1d53cf17452b",
   "metadata": {},
   "outputs": [
    {
     "data": {
      "text/plain": [
       "5-element Vector{Vector{Int64}}:\n",
       " [0, 1, 0, 0, 0, 0, 0, 0, 0, 0]\n",
       " [0, 0, 0, 1, 0, 0, 0, 0, 0, 0]\n",
       " [0, 0, 0, 0, 0, 1, 0, 0, 0, 0]\n",
       " [0, 0, 0, 0, 0, 0, 0, 1, 0, 0]\n",
       " [0, 0, 0, 0, 0, 0, 0, 0, 0, 1]"
      ]
     },
     "execution_count": 146,
     "metadata": {},
     "output_type": "execute_result"
    }
   ],
   "source": [
    "Bs = eachcol(kron(I(N), b)) .|> Array"
   ]
  },
  {
   "cell_type": "code",
   "execution_count": 147,
   "id": "9522dad8-f092-4ce0-bab3-1b2f3d74aea5",
   "metadata": {},
   "outputs": [
    {
     "data": {
      "text/plain": [
       "5×5 Matrix{Float64}:\n",
       "  1.0  -1.0   0.0   0.0   0.0\n",
       " -1.0   2.0  -1.0   0.0   0.0\n",
       "  0.0  -1.0   2.0  -1.0   0.0\n",
       "  0.0   0.0  -1.0   2.0  -1.0\n",
       "  0.0   0.0   0.0  -1.0   1.0"
      ]
     },
     "execution_count": 147,
     "metadata": {},
     "output_type": "execute_result"
    }
   ],
   "source": [
    "L = diagm(0 => 2ones(N), 1 => -ones(N - 1), -1 => -ones(N - 1))\n",
    "L[1, 1] = 1\n",
    "L[end, end] = 1\n",
    "L"
   ]
  },
  {
   "cell_type": "code",
   "execution_count": 148,
   "id": "19df6295-7467-4326-8426-dff55a40eb82",
   "metadata": {},
   "outputs": [
    {
     "data": {
      "text/plain": [
       "5-element Vector{Matrix{Float64}}:\n",
       " [1.0 0.0 … 0.0 0.0]\n",
       " [-1.0 -0.0 … 0.0 0.0]\n",
       " [0.0 0.0 … 0.0 0.0]\n",
       " [0.0 0.0 … -1.0 -0.0]\n",
       " [0.0 0.0 … 1.0 0.0]"
      ]
     },
     "execution_count": 148,
     "metadata": {},
     "output_type": "execute_result"
    }
   ],
   "source": [
    "Cs = eachrow(kron(L, c)) .|> Array .|> permutedims"
   ]
  },
  {
   "cell_type": "code",
   "execution_count": 149,
   "id": "15f45c6f-eafd-49e3-85fb-fd58f056584d",
   "metadata": {},
   "outputs": [
    {
     "data": {
      "text/plain": [
       "StateSpaceDistributed{Matrix{Int64}, BlockMatrix{Int64, Matrix{Matrix{Int64}}, Tuple{BlockedUnitRange{Vector{Int64}}, BlockedUnitRange{Vector{Int64}}}}, BlockMatrix{Float64, Matrix{Matrix{Float64}}, Tuple{BlockedUnitRange{Vector{Int64}}, BlockedUnitRange{Vector{Int64}}}}, BlockMatrix{Int64, Matrix{Matrix{Int64}}, Tuple{BlockedUnitRange{Vector{Int64}}, BlockedUnitRange{Vector{Int64}}}}}([0 1 … 0 0; 0 0 … 0 0; … ; 0 0 … 0 1; 0 0 … 0 0], [0 0 … 0 0; 1 0 … 0 0; … ; 0 0 … 0 0; 0 0 … 0 1], [1.0 0.0 … 0.0 0.0; -1.0 -0.0 … 0.0 0.0; … ; 0.0 0.0 … -1.0 -0.0; 0.0 0.0 … 1.0 0.0], [0 0 … 0 0; 0 0 … 0 0; … ; 0 0 … 0 0; 0 0 … 0 0])"
      ]
     },
     "execution_count": 149,
     "metadata": {},
     "output_type": "execute_result"
    }
   ],
   "source": [
    "ssd = StateSpaceDistributed(A, Bs, Cs)"
   ]
  },
  {
   "cell_type": "code",
   "execution_count": 150,
   "id": "c89494eb-7760-41aa-a9b7-36ee8e009f28",
   "metadata": {},
   "outputs": [
    {
     "data": {
      "text/plain": [
       "2-element Vector{ComplexF64}:\n",
       " 0.0 - 0.0im\n",
       " 0.0 + 0.0im"
      ]
     },
     "execution_count": 150,
     "metadata": {},
     "output_type": "execute_result"
    }
   ],
   "source": [
    "fixed_modes(ssd; digits=5)"
   ]
  },
  {
   "cell_type": "code",
   "execution_count": 151,
   "id": "f9aa004a-021d-499a-baf0-21d3a0885c94",
   "metadata": {},
   "outputs": [
    {
     "ename": "LoadError",
     "evalue": "The Hamiltonian matrix is not dichotomic",
     "output_type": "error",
     "traceback": [
      "The Hamiltonian matrix is not dichotomic",
      "",
      "Stacktrace:",
      "  [1] error(s::String)",
      "    @ Base .\\error.jl:35",
      "  [2] arec(A::Matrix{Float64}, G::Matrix{Float64}, Q::UniformScaling{Bool}; as::Bool, rtol::Float64)",
      "    @ MatrixEquations C:\\Users\\liotb\\.julia\\packages\\MatrixEquations\\vBvfe\\src\\riccati.jl:96",
      "  [3] arec",
      "    @ C:\\Users\\liotb\\.julia\\packages\\MatrixEquations\\vBvfe\\src\\riccati.jl:66 [inlined]",
      "  [4] arec(A::Matrix{Float64}, B::Matrix{Float64}, G::Int64, R::UniformScaling{Bool}, Q::UniformScaling{Bool}, S::Matrix{Float64}; as::Bool, rtol::Float64, orth::Bool)",
      "    @ MatrixEquations C:\\Users\\liotb\\.julia\\packages\\MatrixEquations\\vBvfe\\src\\riccati.jl:306",
      "  [5] arec",
      "    @ C:\\Users\\liotb\\.julia\\packages\\MatrixEquations\\vBvfe\\src\\riccati.jl:221 [inlined]",
      "  [6] #arec#33",
      "    @ C:\\Users\\liotb\\.julia\\packages\\MatrixEquations\\vBvfe\\src\\riccati.jl:194 [inlined]",
      "  [7] arec (repeats 2 times)",
      "    @ C:\\Users\\liotb\\.julia\\packages\\MatrixEquations\\vBvfe\\src\\riccati.jl:188 [inlined]",
      "  [8] lqr(::Continuous, ::Matrix{Float64}, ::Matrix{Float64}, ::UniformScaling{Bool}, ::UniformScaling{Bool}; kwargs::Base.Pairs{Symbol, Union{}, Tuple{}, NamedTuple{(), Tuple{}}})",
      "    @ ControlSystemsBase C:\\Users\\liotb\\.julia\\packages\\ControlSystemsBase\\KYPHd\\src\\synthesis.jl:60",
      "  [9] lqr",
      "    @ C:\\Users\\liotb\\.julia\\packages\\ControlSystemsBase\\KYPHd\\src\\synthesis.jl:59 [inlined]",
      " [10] #lqr#323",
      "    @ C:\\Users\\liotb\\.julia\\packages\\ControlSystemsBase\\KYPHd\\src\\synthesis.jl:86 [inlined]",
      " [11] lqr",
      "    @ C:\\Users\\liotb\\.julia\\packages\\ControlSystemsBase\\KYPHd\\src\\synthesis.jl:85 [inlined]",
      " [12] robust_controller(sys::StateSpace{Continuous, Float64})",
      "    @ DistributedControlSystems C:\\Users\\liotb\\.julia\\dev\\DistributedControlSystems\\src\\general_linear.jl:139",
      " [13] local_controller_and_closed_sys(ssd::StateSpaceDistributed{Matrix{Int64}, BlockMatrix{Int64, Matrix{Matrix{Int64}}, Tuple{BlockedUnitRange{Vector{Int64}}, BlockedUnitRange{Vector{Int64}}}}, BlockMatrix{Float64, Matrix{Matrix{Float64}}, Tuple{BlockedUnitRange{Vector{Int64}}, BlockedUnitRange{Vector{Int64}}}}, BlockMatrix{Int64, Matrix{Matrix{Int64}}, Tuple{BlockedUnitRange{Vector{Int64}}, BlockedUnitRange{Vector{Int64}}}}}, k::Int64, Ak::Matrix{Float64}; alg::typeof(DistributedControlSystems.robust_controller))",
      "    @ DistributedControlSystems C:\\Users\\liotb\\.julia\\dev\\DistributedControlSystems\\src\\general_linear.jl:165",
      " [14] distributed_controllers(ssd::StateSpaceDistributed{Matrix{Int64}, BlockMatrix{Int64, Matrix{Matrix{Int64}}, Tuple{BlockedUnitRange{Vector{Int64}}, BlockedUnitRange{Vector{Int64}}}}, BlockMatrix{Float64, Matrix{Matrix{Float64}}, Tuple{BlockedUnitRange{Vector{Int64}}, BlockedUnitRange{Vector{Int64}}}}, BlockMatrix{Int64, Matrix{Matrix{Int64}}, Tuple{BlockedUnitRange{Vector{Int64}}, BlockedUnitRange{Vector{Int64}}}}}; alg::Function)",
      "    @ DistributedControlSystems C:\\Users\\liotb\\.julia\\dev\\DistributedControlSystems\\src\\general_linear.jl:183",
      " [15] distributed_controllers(ssd::StateSpaceDistributed{Matrix{Int64}, BlockMatrix{Int64, Matrix{Matrix{Int64}}, Tuple{BlockedUnitRange{Vector{Int64}}, BlockedUnitRange{Vector{Int64}}}}, BlockMatrix{Float64, Matrix{Matrix{Float64}}, Tuple{BlockedUnitRange{Vector{Int64}}, BlockedUnitRange{Vector{Int64}}}}, BlockMatrix{Int64, Matrix{Matrix{Int64}}, Tuple{BlockedUnitRange{Vector{Int64}}, BlockedUnitRange{Vector{Int64}}}}})",
      "    @ DistributedControlSystems C:\\Users\\liotb\\.julia\\dev\\DistributedControlSystems\\src\\general_linear.jl:176",
      " [16] top-level scope",
      "    @ In[151]:1"
     ]
    }
   ],
   "source": [
    "cs, Acl = distributed_controllers(ssd)"
   ]
  },
  {
   "cell_type": "code",
   "execution_count": 152,
   "id": "97d75d70-8219-493c-90e3-b96e183f20b1",
   "metadata": {},
   "outputs": [
    {
     "data": {
      "text/plain": [
       "null_controller (generic function with 1 method)"
      ]
     },
     "execution_count": 152,
     "metadata": {},
     "output_type": "execute_result"
    }
   ],
   "source": [
    "function null_controller(siso)\n",
    "    system = minreal2(siso)\n",
    "    y_system, null_system = null_split(system)\n",
    "    L = kalman(y_system, I, I)\n",
    "    K = lqr(y_system, I, I)\n",
    "    controller = observer_controller(y_system, K, L)\n",
    "end"
   ]
  },
  {
   "cell_type": "code",
   "execution_count": 153,
   "id": "4cf7df12-50b3-4aba-bc4d-41bbd1029e09",
   "metadata": {},
   "outputs": [
    {
     "data": {
      "text/plain": [
       "StateSpace{Continuous, Int64}\n",
       "D = \n",
       " 0\n",
       "\n",
       "Continuous-time state-space model"
      ]
     },
     "execution_count": 153,
     "metadata": {},
     "output_type": "execute_result"
    }
   ],
   "source": [
    "ss(0)"
   ]
  },
  {
   "cell_type": "code",
   "execution_count": 154,
   "id": "1c1fc716-6a09-4797-b656-9c520350127f",
   "metadata": {},
   "outputs": [
    {
     "data": {
      "text/plain": [
       "StateSpace{Continuous, Float64}\n",
       "A = \n",
       " 0.0  1.0  0.0  0.0  0.0  0.0  0.0  0.0  0.0  0.0\n",
       " 0.0  0.0  0.0  0.0  0.0  0.0  0.0  0.0  0.0  0.0\n",
       " 0.0  0.0  0.0  1.0  0.0  0.0  0.0  0.0  0.0  0.0\n",
       " 0.0  0.0  0.0  0.0  0.0  0.0  0.0  0.0  0.0  0.0\n",
       " 0.0  0.0  0.0  0.0  0.0  1.0  0.0  0.0  0.0  0.0\n",
       " 0.0  0.0  0.0  0.0  0.0  0.0  0.0  0.0  0.0  0.0\n",
       " 0.0  0.0  0.0  0.0  0.0  0.0  0.0  1.0  0.0  0.0\n",
       " 0.0  0.0  0.0  0.0  0.0  0.0  0.0  0.0  0.0  0.0\n",
       " 0.0  0.0  0.0  0.0  0.0  0.0  0.0  0.0  0.0  1.0\n",
       " 0.0  0.0  0.0  0.0  0.0  0.0  0.0  0.0  0.0  0.0\n",
       "B = \n",
       " 0.0\n",
       " 1.0\n",
       " 0.0\n",
       " 0.0\n",
       " 0.0\n",
       " 0.0\n",
       " 0.0\n",
       " 0.0\n",
       " 0.0\n",
       " 0.0\n",
       "C = \n",
       " 1.0  0.0  -1.0  -0.0  0.0  0.0  0.0  0.0  0.0  0.0\n",
       "D = \n",
       " 0.0\n",
       "\n",
       "Continuous-time state-space model"
      ]
     },
     "execution_count": 154,
     "metadata": {},
     "output_type": "execute_result"
    }
   ],
   "source": [
    "siso = ss(ssd.A, ssd.B[Block(1)], ssd.C[Block(1)], 0)"
   ]
  },
  {
   "cell_type": "code",
   "execution_count": 155,
   "id": "a3827353-d220-4628-9231-3bf1c350b864",
   "metadata": {},
   "outputs": [
    {
     "data": {
      "text/plain": [
       "(2, 1.0)"
      ]
     },
     "execution_count": 155,
     "metadata": {},
     "output_type": "execute_result"
    }
   ],
   "source": [
    "minreal2(siso) |> relative_degree"
   ]
  },
  {
   "cell_type": "code",
   "execution_count": 156,
   "id": "4b3a71dc-07e6-4a6c-919a-682b913608d7",
   "metadata": {},
   "outputs": [
    {
     "data": {
      "text/plain": [
       "20×20 Matrix{Float64}:\n",
       "  0.0      1.0   0.0      0.0   0.0      0.0  …  -0.0      -0.0      -0.0\n",
       "  0.0      0.0   0.0      0.0   0.0      0.0     -0.0      -0.0      -0.0\n",
       "  0.0      0.0   0.0      1.0   0.0      0.0     -0.0      -0.0      -0.0\n",
       "  0.0      0.0   0.0      0.0   0.0      0.0     -0.0      -0.0      -0.0\n",
       "  0.0      0.0   0.0      0.0   0.0      1.0     -0.0      -0.0      -0.0\n",
       "  0.0      0.0   0.0      0.0   0.0      0.0  …  -0.0      -0.0      -0.0\n",
       "  0.0      0.0   0.0      0.0   0.0      0.0     -0.0      -0.0      -0.0\n",
       "  0.0      0.0   0.0      0.0   0.0      0.0     -1.73205  -0.0      -0.0\n",
       "  0.0      0.0   0.0      0.0   0.0      0.0     -0.0      -0.0      -0.0\n",
       "  0.0      0.0   0.0      0.0   0.0      0.0     -0.0      -1.0      -1.73205\n",
       "  1.73205  0.0  -1.73205  0.0   0.0      0.0  …  -0.0      -0.0      -0.0\n",
       "  1.0      0.0  -1.0      0.0   0.0      0.0     -0.0      -0.0      -0.0\n",
       " -1.41421  0.0   2.82843  0.0  -1.41421  0.0     -0.0      -0.0      -0.0\n",
       " -1.0      0.0   2.0      0.0  -1.0      0.0     -0.0      -0.0      -0.0\n",
       "  0.0      0.0  -1.41421  0.0   2.82843  0.0     -0.0      -0.0      -0.0\n",
       "  0.0      0.0  -1.0      0.0   2.0      0.0  …  -0.0      -0.0      -0.0\n",
       "  0.0      0.0   0.0      0.0  -1.41421  0.0      1.0      -0.0      -0.0\n",
       "  0.0      0.0   0.0      0.0  -1.0      0.0     -1.73205  -0.0      -0.0\n",
       "  0.0      0.0   0.0      0.0   0.0      0.0      0.0      -1.73205   1.0\n",
       "  0.0      0.0   0.0      0.0   0.0      0.0      0.0      -2.0      -1.73205"
      ]
     },
     "execution_count": 156,
     "metadata": {},
     "output_type": "execute_result"
    }
   ],
   "source": [
    "cs2, Acl2 = distributed_controllers(ssd; alg=null_controller)\n",
    "Acl2"
   ]
  },
  {
   "cell_type": "code",
   "execution_count": 157,
   "id": "659d20f8-b81d-4dc5-a819-e502b063422e",
   "metadata": {},
   "outputs": [
    {
     "data": {
      "text/plain": [
       "10-element Vector{ComplexF64}:\n",
       "   -2.0687760219908036 + 0.0im\n",
       "    -1.467029518314265 - 0.24755381078639013im\n",
       "    -1.467029518314265 + 0.24755381078639013im\n",
       "   -1.1636174267858947 - 1.4687535674836465im\n",
       "   -1.1636174267858947 + 1.4687535674836465im\n",
       "   -1.1517937415128028 + 0.0im\n",
       "   -0.9313053020371831 - 1.3069897795977856im\n",
       "   -0.9313053020371831 + 1.3069897795977856im\n",
       " 4.836423387876063e-16 - 1.0613698185394586e-8im\n",
       " 4.836423387876063e-16 + 1.0613698185394586e-8im"
      ]
     },
     "execution_count": 157,
     "metadata": {},
     "output_type": "execute_result"
    }
   ],
   "source": [
    "Acl |> eigvals"
   ]
  },
  {
   "cell_type": "code",
   "execution_count": 158,
   "id": "58c317e1-aed9-4096-a1e2-f8bce33538ce",
   "metadata": {},
   "outputs": [
    {
     "data": {
      "text/plain": [
       "20-element Vector{ComplexF64}:\n",
       "     -3.067945801568088 + 0.0im\n",
       "     -2.642641298987878 + 0.0im\n",
       "     -2.181707673711644 - 1.5684931140552534im\n",
       "     -2.181707673711644 + 1.5684931140552534im\n",
       "    -1.9043019445276794 - 1.3513865115749395im\n",
       "    -1.9043019445276794 + 1.3513865115749395im\n",
       "    -1.0633956467028876 - 0.4763522564611544im\n",
       "    -1.0633956467028876 + 0.4763522564611544im\n",
       "    -0.8660254037846692 - 0.4999999999998823im\n",
       "    -0.8660254037846692 + 0.4999999999998823im\n",
       "    -0.4870502352357613 - 1.4331513121496193im\n",
       "    -0.4870502352357613 + 1.4331513121496193im\n",
       "   -0.45403330584804014 - 1.6403264456027662im\n",
       "   -0.45403330584804014 + 1.6403264456027662im\n",
       "    -0.4017566164041519 + 0.0im\n",
       "    -0.3867876181052776 + 0.0im\n",
       "   -0.09873863626693724 - 0.25621410120162363im\n",
       "   -0.09873863626693724 + 0.25621410120162363im\n",
       " -2.6102245858457105e-8 + 0.0im\n",
       "   2.610224633268355e-8 + 0.0im"
      ]
     },
     "execution_count": 158,
     "metadata": {},
     "output_type": "execute_result"
    }
   ],
   "source": [
    "Acl2 |> eigvals"
   ]
  },
  {
   "cell_type": "code",
   "execution_count": null,
   "id": "42af10be-30f2-463f-9c1c-e1970dc5eee2",
   "metadata": {},
   "outputs": [],
   "source": []
  }
 ],
 "metadata": {
  "kernelspec": {
   "display_name": "Julia 1.9.0",
   "language": "julia",
   "name": "julia-1.9"
  },
  "language_info": {
   "file_extension": ".jl",
   "mimetype": "application/julia",
   "name": "julia",
   "version": "1.9.0"
  }
 },
 "nbformat": 4,
 "nbformat_minor": 5
}
