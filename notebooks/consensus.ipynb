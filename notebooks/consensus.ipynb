{
 "cells": [
  {
   "cell_type": "code",
   "execution_count": 79,
   "id": "58aea194-5a6c-43ef-acb0-57df5cb5897e",
   "metadata": {},
   "outputs": [],
   "source": [
    "using ControlSystems\n",
    "using DistributedControlSystems\n",
    "using RobustAndOptimalControl\n",
    "using LinearAlgebra\n",
    "using BlockArrays"
   ]
  },
  {
   "cell_type": "code",
   "execution_count": 260,
   "id": "e5e63163-2259-439e-90bd-f508d616f07c",
   "metadata": {},
   "outputs": [
    {
     "data": {
      "text/plain": [
       "null_split (generic function with 1 method)"
      ]
     },
     "execution_count": 260,
     "metadata": {},
     "output_type": "execute_result"
    }
   ],
   "source": [
    "# patch\n",
    "function control_form(sys)\n",
    "    A, B, C = sys.A, sys.B, sys.C\n",
    "    n = size(A, 1)\n",
    "    tsys = tf(sys)\n",
    "    α = tsys.matrix[1].den.coeffs\n",
    "    \n",
    "    P = zeros(n, n)\n",
    "    P[:, n] = B\n",
    "    for i in n - 1:-1:1\n",
    "        p = P[:, i + 1]\n",
    "        P[:, i] = A * p + α[i + 1] * B\n",
    "    end\n",
    "\n",
    "    similarity_transform(sys, P), P\n",
    "end\n",
    "\n",
    "function relative_degree(sys)\n",
    "    A, B, C = sys.A, sys.B, sys.C\n",
    "    n = size(A, 1)\n",
    "    for r in 1:n\n",
    "        u_to_dy = C * A^(r - 1) * B\n",
    "        # !(u_to_dy[1] ≈ 0)\n",
    "        if (!isapprox(u_to_dy[1], 0, atol=1e-10))\n",
    "            return r, u_to_dy[1]\n",
    "        end\n",
    "    end\n",
    "    \n",
    "end\n",
    "\n",
    "function null_form(sys)\n",
    "    sys, T = control_form(sys)\n",
    "    A, B, C = sys.A, sys.B, sys.C\n",
    "    n = size(A, 1)\n",
    "    r, R = relative_degree(sys)\n",
    "    P = diagm(0 => ones(n))\n",
    "    \n",
    "    C = @. C / R\n",
    "    \n",
    "    for i in 1:n - r\n",
    "        @show i, n, r\n",
    "        P[n - r + 1:end, :] += diagm(r, n, i - 1 => fill(C[i], r))\n",
    "    end\n",
    "    P = inv(P)\n",
    "    sys = similarity_transform(sys, P)\n",
    "    # sys = ss(sys.A, sys.B, sys.C * R, 0)\n",
    "    sys, P, r\n",
    "end\n",
    "\n",
    "function null_split(sys)\n",
    "    null_sys, _, r = null_form(sys)\n",
    "    A, B, C = null_sys.A, null_sys.B, null_sys.C\n",
    "    n = size(A, 1)\n",
    "    \n",
    "    T = diagm(r, n, n - r => fill(1, r))\n",
    "    pT = pinv(T)\n",
    "    N = diagm(n - r, n, 0 => fill(1, n - r))\n",
    "    pN = pinv(N)\n",
    "    \n",
    "    yA = T * A * pT\n",
    "    yB = T * B\n",
    "    yC = C * pT\n",
    "    y_sys = ss(yA, yB, yC, 0)\n",
    "    \n",
    "    nA = A[1:n - r, 1:n - r]\n",
    "    nB = zeros(n - r, 1)\n",
    "    nB[end] = 1 / yC[1]\n",
    "    nC = A[n:n, 1:n - r]\n",
    "    \n",
    "    n_sys = ss(nA, nB, nC, 0)\n",
    "    \n",
    "    y_sys, n_sys\n",
    "end"
   ]
  },
  {
   "cell_type": "markdown",
   "id": "3e1478e5-b47c-49ed-a173-479a9a979dc8",
   "metadata": {},
   "source": [
    "# Проверка масштабируемости на задаче консенсуса.\n",
    "\n",
    "Оказалось, что уже при 10 агентах задача не решается.\n",
    "\n",
    "Это связано с ростом контроллера на каждой итерации, так как предыдущие контроллеры связали первых агентов с текущим:\n",
    "Они стали наблюдаемыми и управляемыми.\n",
    "\n",
    "Возможное решение - выделение нулевой динамики на каждой итерации. Если она устойчивая, то можно создать контроллер с размерностью равной относительному порядку."
   ]
  },
  {
   "cell_type": "code",
   "execution_count": 80,
   "id": "2c713ff8-8893-4f9b-b3d2-16f671fca401",
   "metadata": {},
   "outputs": [
    {
     "data": {
      "text/plain": [
       "1×2 Matrix{Int64}:\n",
       " 1  0"
      ]
     },
     "execution_count": 80,
     "metadata": {},
     "output_type": "execute_result"
    }
   ],
   "source": [
    "a = [\n",
    "    0 1\n",
    "    0 0\n",
    "]\n",
    "b = [\n",
    "    0\n",
    "    1\n",
    "]\n",
    "c = [1 0]"
   ]
  },
  {
   "cell_type": "code",
   "execution_count": 81,
   "id": "68a4778b-f21b-4fb2-b6a2-ede10574d71b",
   "metadata": {},
   "outputs": [
    {
     "data": {
      "text/plain": [
       "10"
      ]
     },
     "execution_count": 81,
     "metadata": {},
     "output_type": "execute_result"
    }
   ],
   "source": [
    "N = 10"
   ]
  },
  {
   "cell_type": "code",
   "execution_count": 82,
   "id": "3aa26222-9998-462f-8abd-060dd6574b8f",
   "metadata": {},
   "outputs": [
    {
     "data": {
      "text/plain": [
       "20×20 Matrix{Int64}:\n",
       " 0  1  0  0  0  0  0  0  0  0  0  0  0  0  0  0  0  0  0  0\n",
       " 0  0  0  0  0  0  0  0  0  0  0  0  0  0  0  0  0  0  0  0\n",
       " 0  0  0  1  0  0  0  0  0  0  0  0  0  0  0  0  0  0  0  0\n",
       " 0  0  0  0  0  0  0  0  0  0  0  0  0  0  0  0  0  0  0  0\n",
       " 0  0  0  0  0  1  0  0  0  0  0  0  0  0  0  0  0  0  0  0\n",
       " 0  0  0  0  0  0  0  0  0  0  0  0  0  0  0  0  0  0  0  0\n",
       " 0  0  0  0  0  0  0  1  0  0  0  0  0  0  0  0  0  0  0  0\n",
       " 0  0  0  0  0  0  0  0  0  0  0  0  0  0  0  0  0  0  0  0\n",
       " 0  0  0  0  0  0  0  0  0  1  0  0  0  0  0  0  0  0  0  0\n",
       " 0  0  0  0  0  0  0  0  0  0  0  0  0  0  0  0  0  0  0  0\n",
       " 0  0  0  0  0  0  0  0  0  0  0  1  0  0  0  0  0  0  0  0\n",
       " 0  0  0  0  0  0  0  0  0  0  0  0  0  0  0  0  0  0  0  0\n",
       " 0  0  0  0  0  0  0  0  0  0  0  0  0  1  0  0  0  0  0  0\n",
       " 0  0  0  0  0  0  0  0  0  0  0  0  0  0  0  0  0  0  0  0\n",
       " 0  0  0  0  0  0  0  0  0  0  0  0  0  0  0  1  0  0  0  0\n",
       " 0  0  0  0  0  0  0  0  0  0  0  0  0  0  0  0  0  0  0  0\n",
       " 0  0  0  0  0  0  0  0  0  0  0  0  0  0  0  0  0  1  0  0\n",
       " 0  0  0  0  0  0  0  0  0  0  0  0  0  0  0  0  0  0  0  0\n",
       " 0  0  0  0  0  0  0  0  0  0  0  0  0  0  0  0  0  0  0  1\n",
       " 0  0  0  0  0  0  0  0  0  0  0  0  0  0  0  0  0  0  0  0"
      ]
     },
     "execution_count": 82,
     "metadata": {},
     "output_type": "execute_result"
    }
   ],
   "source": [
    "A = kron(I(N), a)"
   ]
  },
  {
   "cell_type": "code",
   "execution_count": 83,
   "id": "1513e39c-e080-4f18-b854-1d53cf17452b",
   "metadata": {},
   "outputs": [
    {
     "data": {
      "text/plain": [
       "10-element Vector{Vector{Int64}}:\n",
       " [0, 1, 0, 0, 0, 0, 0, 0, 0, 0, 0, 0, 0, 0, 0, 0, 0, 0, 0, 0]\n",
       " [0, 0, 0, 1, 0, 0, 0, 0, 0, 0, 0, 0, 0, 0, 0, 0, 0, 0, 0, 0]\n",
       " [0, 0, 0, 0, 0, 1, 0, 0, 0, 0, 0, 0, 0, 0, 0, 0, 0, 0, 0, 0]\n",
       " [0, 0, 0, 0, 0, 0, 0, 1, 0, 0, 0, 0, 0, 0, 0, 0, 0, 0, 0, 0]\n",
       " [0, 0, 0, 0, 0, 0, 0, 0, 0, 1, 0, 0, 0, 0, 0, 0, 0, 0, 0, 0]\n",
       " [0, 0, 0, 0, 0, 0, 0, 0, 0, 0, 0, 1, 0, 0, 0, 0, 0, 0, 0, 0]\n",
       " [0, 0, 0, 0, 0, 0, 0, 0, 0, 0, 0, 0, 0, 1, 0, 0, 0, 0, 0, 0]\n",
       " [0, 0, 0, 0, 0, 0, 0, 0, 0, 0, 0, 0, 0, 0, 0, 1, 0, 0, 0, 0]\n",
       " [0, 0, 0, 0, 0, 0, 0, 0, 0, 0, 0, 0, 0, 0, 0, 0, 0, 1, 0, 0]\n",
       " [0, 0, 0, 0, 0, 0, 0, 0, 0, 0, 0, 0, 0, 0, 0, 0, 0, 0, 0, 1]"
      ]
     },
     "execution_count": 83,
     "metadata": {},
     "output_type": "execute_result"
    }
   ],
   "source": [
    "Bs = eachcol(kron(I(N), b)) .|> Array"
   ]
  },
  {
   "cell_type": "code",
   "execution_count": 84,
   "id": "9522dad8-f092-4ce0-bab3-1b2f3d74aea5",
   "metadata": {},
   "outputs": [
    {
     "data": {
      "text/plain": [
       "10×10 Matrix{Float64}:\n",
       "  1.0  -1.0   0.0   0.0   0.0   0.0   0.0   0.0   0.0   0.0\n",
       " -1.0   2.0  -1.0   0.0   0.0   0.0   0.0   0.0   0.0   0.0\n",
       "  0.0  -1.0   2.0  -1.0   0.0   0.0   0.0   0.0   0.0   0.0\n",
       "  0.0   0.0  -1.0   2.0  -1.0   0.0   0.0   0.0   0.0   0.0\n",
       "  0.0   0.0   0.0  -1.0   2.0  -1.0   0.0   0.0   0.0   0.0\n",
       "  0.0   0.0   0.0   0.0  -1.0   2.0  -1.0   0.0   0.0   0.0\n",
       "  0.0   0.0   0.0   0.0   0.0  -1.0   2.0  -1.0   0.0   0.0\n",
       "  0.0   0.0   0.0   0.0   0.0   0.0  -1.0   2.0  -1.0   0.0\n",
       "  0.0   0.0   0.0   0.0   0.0   0.0   0.0  -1.0   2.0  -1.0\n",
       "  0.0   0.0   0.0   0.0   0.0   0.0   0.0   0.0  -1.0   1.0"
      ]
     },
     "execution_count": 84,
     "metadata": {},
     "output_type": "execute_result"
    }
   ],
   "source": [
    "L = diagm(0 => 2ones(N), 1 => -ones(N - 1), -1 => -ones(N - 1))\n",
    "L[1, 1] = 1\n",
    "L[end, end] = 1\n",
    "L"
   ]
  },
  {
   "cell_type": "code",
   "execution_count": 85,
   "id": "19df6295-7467-4326-8426-dff55a40eb82",
   "metadata": {},
   "outputs": [
    {
     "data": {
      "text/plain": [
       "10-element Vector{Matrix{Float64}}:\n",
       " [1.0 0.0 … 0.0 0.0]\n",
       " [-1.0 -0.0 … 0.0 0.0]\n",
       " [0.0 0.0 … 0.0 0.0]\n",
       " [0.0 0.0 … 0.0 0.0]\n",
       " [0.0 0.0 … 0.0 0.0]\n",
       " [0.0 0.0 … 0.0 0.0]\n",
       " [0.0 0.0 … 0.0 0.0]\n",
       " [0.0 0.0 … 0.0 0.0]\n",
       " [0.0 0.0 … -1.0 -0.0]\n",
       " [0.0 0.0 … 1.0 0.0]"
      ]
     },
     "execution_count": 85,
     "metadata": {},
     "output_type": "execute_result"
    }
   ],
   "source": [
    "Cs = eachrow(kron(L, c)) .|> Array .|> permutedims"
   ]
  },
  {
   "cell_type": "code",
   "execution_count": 86,
   "id": "15f45c6f-eafd-49e3-85fb-fd58f056584d",
   "metadata": {},
   "outputs": [
    {
     "data": {
      "text/plain": [
       "StateSpaceDistributed{Matrix{Int64}, BlockMatrix{Int64, Matrix{Matrix{Int64}}, Tuple{BlockedUnitRange{Vector{Int64}}, BlockedUnitRange{Vector{Int64}}}}, BlockMatrix{Float64, Matrix{Matrix{Float64}}, Tuple{BlockedUnitRange{Vector{Int64}}, BlockedUnitRange{Vector{Int64}}}}, BlockMatrix{Int64, Matrix{Matrix{Int64}}, Tuple{BlockedUnitRange{Vector{Int64}}, BlockedUnitRange{Vector{Int64}}}}}([0 1 … 0 0; 0 0 … 0 0; … ; 0 0 … 0 1; 0 0 … 0 0], [0 0 … 0 0; 1 0 … 0 0; … ; 0 0 … 0 0; 0 0 … 0 1], [1.0 0.0 … 0.0 0.0; -1.0 -0.0 … 0.0 0.0; … ; 0.0 0.0 … -1.0 -0.0; 0.0 0.0 … 1.0 0.0], [0 0 … 0 0; 0 0 … 0 0; … ; 0 0 … 0 0; 0 0 … 0 0])"
      ]
     },
     "execution_count": 86,
     "metadata": {},
     "output_type": "execute_result"
    }
   ],
   "source": [
    "ssd = StateSpaceDistributed(A, Bs, Cs)"
   ]
  },
  {
   "cell_type": "code",
   "execution_count": 87,
   "id": "c89494eb-7760-41aa-a9b7-36ee8e009f28",
   "metadata": {},
   "outputs": [
    {
     "data": {
      "text/plain": [
       "2-element Vector{ComplexF64}:\n",
       " 0.0 - 0.0im\n",
       " 0.0 + 0.0im"
      ]
     },
     "execution_count": 87,
     "metadata": {},
     "output_type": "execute_result"
    }
   ],
   "source": [
    "fixed_modes(ssd; digits=5)"
   ]
  },
  {
   "cell_type": "code",
   "execution_count": 93,
   "id": "f9aa004a-021d-499a-baf0-21d3a0885c94",
   "metadata": {},
   "outputs": [
    {
     "ename": "LoadError",
     "evalue": "The Hamiltonian matrix is not dichotomic",
     "output_type": "error",
     "traceback": [
      "The Hamiltonian matrix is not dichotomic",
      "",
      "Stacktrace:",
      "  [1] error(s::String)",
      "    @ Base .\\error.jl:35",
      "  [2] arec(A::Adjoint{Float64, Matrix{Float64}}, G::Matrix{Float64}, Q::UniformScaling{Bool}; as::Bool, rtol::Float64)",
      "    @ MatrixEquations C:\\Users\\liotb\\.julia\\packages\\MatrixEquations\\vBvfe\\src\\riccati.jl:96",
      "  [3] arec",
      "    @ C:\\Users\\liotb\\.julia\\packages\\MatrixEquations\\vBvfe\\src\\riccati.jl:66 [inlined]",
      "  [4] arec(A::Adjoint{Float64, Matrix{Float64}}, B::Adjoint{Float64, Matrix{Float64}}, G::Int64, R::UniformScaling{Bool}, Q::UniformScaling{Bool}, S::Matrix{Float64}; as::Bool, rtol::Float64, orth::Bool)",
      "    @ MatrixEquations C:\\Users\\liotb\\.julia\\packages\\MatrixEquations\\vBvfe\\src\\riccati.jl:306",
      "  [5] arec",
      "    @ C:\\Users\\liotb\\.julia\\packages\\MatrixEquations\\vBvfe\\src\\riccati.jl:221 [inlined]",
      "  [6] #arec#33",
      "    @ C:\\Users\\liotb\\.julia\\packages\\MatrixEquations\\vBvfe\\src\\riccati.jl:194 [inlined]",
      "  [7] arec (repeats 2 times)",
      "    @ C:\\Users\\liotb\\.julia\\packages\\MatrixEquations\\vBvfe\\src\\riccati.jl:188 [inlined]",
      "  [8] lqr(::Continuous, ::Adjoint{Float64, Matrix{Float64}}, ::Adjoint{Float64, Matrix{Float64}}, ::UniformScaling{Bool}, ::UniformScaling{Bool}; kwargs::Base.Pairs{Symbol, Union{}, Tuple{}, NamedTuple{(), Tuple{}}})",
      "    @ ControlSystemsBase C:\\Users\\liotb\\.julia\\packages\\ControlSystemsBase\\KYPHd\\src\\synthesis.jl:60",
      "  [9] lqr",
      "    @ C:\\Users\\liotb\\.julia\\packages\\ControlSystemsBase\\KYPHd\\src\\synthesis.jl:59 [inlined]",
      " [10] #kalman#324",
      "    @ C:\\Users\\liotb\\.julia\\packages\\ControlSystemsBase\\KYPHd\\src\\synthesis.jl:90 [inlined]",
      " [11] kalman",
      "    @ C:\\Users\\liotb\\.julia\\packages\\ControlSystemsBase\\KYPHd\\src\\synthesis.jl:89 [inlined]",
      " [12] robust_controller(sys::StateSpace{Continuous, Float64})",
      "    @ DistributedControlSystems C:\\Users\\liotb\\.julia\\dev\\DistributedControlSystems\\src\\general_linear.jl:98",
      " [13] local_controller_and_closed_sys(ssd::StateSpaceDistributed{Matrix{Int64}, BlockMatrix{Int64, Matrix{Matrix{Int64}}, Tuple{BlockedUnitRange{Vector{Int64}}, BlockedUnitRange{Vector{Int64}}}}, BlockMatrix{Float64, Matrix{Matrix{Float64}}, Tuple{BlockedUnitRange{Vector{Int64}}, BlockedUnitRange{Vector{Int64}}}}, BlockMatrix{Int64, Matrix{Matrix{Int64}}, Tuple{BlockedUnitRange{Vector{Int64}}, BlockedUnitRange{Vector{Int64}}}}}, k::Int64, Ak::Matrix{Float64})",
      "    @ DistributedControlSystems C:\\Users\\liotb\\.julia\\dev\\DistributedControlSystems\\src\\general_linear.jl:116",
      " [14] distributed_controllers(ssd::StateSpaceDistributed{Matrix{Int64}, BlockMatrix{Int64, Matrix{Matrix{Int64}}, Tuple{BlockedUnitRange{Vector{Int64}}, BlockedUnitRange{Vector{Int64}}}}, BlockMatrix{Float64, Matrix{Matrix{Float64}}, Tuple{BlockedUnitRange{Vector{Int64}}, BlockedUnitRange{Vector{Int64}}}}, BlockMatrix{Int64, Matrix{Matrix{Int64}}, Tuple{BlockedUnitRange{Vector{Int64}}, BlockedUnitRange{Vector{Int64}}}}})",
      "    @ DistributedControlSystems C:\\Users\\liotb\\.julia\\dev\\DistributedControlSystems\\src\\general_linear.jl:129",
      " [15] top-level scope",
      "    @ In[93]:1"
     ]
    }
   ],
   "source": [
    "cs, Acl = distributed_controllers(ssd)"
   ]
  },
  {
   "cell_type": "code",
   "execution_count": 94,
   "id": "c2bc31c2-781d-44c7-b2b9-7cf2bfa6dcb3",
   "metadata": {},
   "outputs": [
    {
     "name": "stdout",
     "output_type": "stream",
     "text": [
      "c1 = StateSpace{Continuous, Float64}\n",
      "A = \n",
      " -1.7320508075688783  -2.000000000000001\n",
      "  1.0                 -1.7320508075688774\n",
      "B = \n",
      " -1.0000000000000007\n",
      " -1.7320508075688774\n",
      "C = \n",
      " -1.7320508075688783  -1.0000000000000004\n",
      "D = \n",
      " 0.0\n",
      "\n",
      "Continuous-time state-space model\n"
     ]
    },
    {
     "data": {
      "text/plain": [
       "22×22 Matrix{Float64}:\n",
       "  0.0      1.0  0.0      0.0  0.0  0.0  …  0.0  0.0  0.0  -0.0      -0.0\n",
       "  0.0      0.0  0.0      0.0  0.0  0.0     0.0  0.0  0.0   1.73205   1.0\n",
       "  0.0      0.0  0.0      1.0  0.0  0.0     0.0  0.0  0.0  -0.0      -0.0\n",
       "  0.0      0.0  0.0      0.0  0.0  0.0     0.0  0.0  0.0  -0.0      -0.0\n",
       "  0.0      0.0  0.0      0.0  0.0  1.0     0.0  0.0  0.0  -0.0      -0.0\n",
       "  0.0      0.0  0.0      0.0  0.0  0.0  …  0.0  0.0  0.0  -0.0      -0.0\n",
       "  0.0      0.0  0.0      0.0  0.0  0.0     0.0  0.0  0.0  -0.0      -0.0\n",
       "  0.0      0.0  0.0      0.0  0.0  0.0     0.0  0.0  0.0  -0.0      -0.0\n",
       "  0.0      0.0  0.0      0.0  0.0  0.0     0.0  0.0  0.0  -0.0      -0.0\n",
       "  0.0      0.0  0.0      0.0  0.0  0.0     0.0  0.0  0.0  -0.0      -0.0\n",
       "  0.0      0.0  0.0      0.0  0.0  0.0  …  0.0  0.0  0.0  -0.0      -0.0\n",
       "  0.0      0.0  0.0      0.0  0.0  0.0     0.0  0.0  0.0  -0.0      -0.0\n",
       "  0.0      0.0  0.0      0.0  0.0  0.0     0.0  0.0  0.0  -0.0      -0.0\n",
       "  0.0      0.0  0.0      0.0  0.0  0.0     0.0  0.0  0.0  -0.0      -0.0\n",
       "  0.0      0.0  0.0      0.0  0.0  0.0     0.0  0.0  0.0  -0.0      -0.0\n",
       "  0.0      0.0  0.0      0.0  0.0  0.0  …  0.0  0.0  0.0  -0.0      -0.0\n",
       "  0.0      0.0  0.0      0.0  0.0  0.0     1.0  0.0  0.0  -0.0      -0.0\n",
       "  0.0      0.0  0.0      0.0  0.0  0.0     0.0  0.0  0.0  -0.0      -0.0\n",
       "  0.0      0.0  0.0      0.0  0.0  0.0     0.0  0.0  1.0  -0.0      -0.0\n",
       "  0.0      0.0  0.0      0.0  0.0  0.0     0.0  0.0  0.0  -0.0      -0.0\n",
       " -1.0      0.0  1.0      0.0  0.0  0.0  …  0.0  0.0  0.0  -1.73205  -2.0\n",
       " -1.73205  0.0  1.73205  0.0  0.0  0.0     0.0  0.0  0.0   1.0      -1.73205"
      ]
     },
     "execution_count": 94,
     "metadata": {},
     "output_type": "execute_result"
    }
   ],
   "source": [
    "c1, s1 = DistributedControlSystems.local_controller_and_closed_sys(ssd, 1, ssd.A)\n",
    "A1 = s1.A\n",
    "@show c1\n",
    "A1"
   ]
  },
  {
   "cell_type": "code",
   "execution_count": 95,
   "id": "71b3d690-6704-4c47-9752-1a7a7eb5b719",
   "metadata": {},
   "outputs": [
    {
     "data": {
      "text/plain": [
       "22×22 Matrix{Float64}:\n",
       " 0.0  1.0   0.0       0.0       -3.4641   …   89.0     -93.5307   72.0\n",
       " 1.0  0.0   0.0      -3.4641    11.0         -93.5307   72.0     -27.7128\n",
       " 0.0  0.0   0.0       0.0        0.0           0.0       0.0       0.0\n",
       " 0.0  0.0   0.0       0.0        0.0           0.0       0.0       0.0\n",
       " 0.0  0.0   0.0       0.0        0.0           0.0       0.0       0.0\n",
       " 0.0  0.0   0.0       0.0        0.0      …    0.0       0.0       0.0\n",
       " 0.0  0.0   0.0       0.0        0.0           0.0       0.0       0.0\n",
       " 0.0  0.0   0.0       0.0        0.0           0.0       0.0       0.0\n",
       " 0.0  0.0   0.0       0.0        0.0           0.0       0.0       0.0\n",
       " 0.0  0.0   0.0       0.0        0.0           0.0       0.0       0.0\n",
       " 0.0  0.0   0.0       0.0        0.0      …    0.0       0.0       0.0\n",
       " 0.0  0.0   0.0       0.0        0.0           0.0       0.0       0.0\n",
       " 0.0  0.0   0.0       0.0        0.0           0.0       0.0       0.0\n",
       " 0.0  0.0   0.0       0.0        0.0           0.0       0.0       0.0\n",
       " 0.0  0.0   0.0       0.0        0.0           0.0       0.0       0.0\n",
       " 0.0  0.0   0.0       0.0        0.0      …    0.0       0.0       0.0\n",
       " 0.0  0.0   0.0       0.0        0.0           0.0       0.0       0.0\n",
       " 0.0  0.0   0.0       0.0        0.0           0.0       0.0       0.0\n",
       " 0.0  0.0   0.0       0.0        0.0           0.0       0.0       0.0\n",
       " 0.0  0.0   0.0       0.0        0.0           0.0       0.0       0.0\n",
       " 0.0  0.0  -1.0       5.19615  -13.0      …   93.5307  -71.0      25.9808\n",
       " 0.0  0.0  -1.73205   2.0        1.73205     -90.0      95.2628  -74.0"
      ]
     },
     "execution_count": 95,
     "metadata": {},
     "output_type": "execute_result"
    }
   ],
   "source": [
    "ctrb(s1)"
   ]
  },
  {
   "cell_type": "code",
   "execution_count": 96,
   "id": "f202230b-f450-4ce9-b6c7-4932bba9e740",
   "metadata": {},
   "outputs": [
    {
     "data": {
      "text/plain": [
       "22×22 Matrix{Float64}:\n",
       "  0.0      1.0  0.0      0.0  0.0  0.0  …  0.0  0.0  0.0  -0.0      -0.0\n",
       "  0.0      0.0  0.0      0.0  0.0  0.0     0.0  0.0  0.0   1.73205   1.0\n",
       "  0.0      0.0  0.0      1.0  0.0  0.0     0.0  0.0  0.0  -0.0      -0.0\n",
       "  0.0      0.0  0.0      0.0  0.0  0.0     0.0  0.0  0.0  -0.0      -0.0\n",
       "  0.0      0.0  0.0      0.0  0.0  1.0     0.0  0.0  0.0  -0.0      -0.0\n",
       "  0.0      0.0  0.0      0.0  0.0  0.0  …  0.0  0.0  0.0  -0.0      -0.0\n",
       "  0.0      0.0  0.0      0.0  0.0  0.0     0.0  0.0  0.0  -0.0      -0.0\n",
       "  0.0      0.0  0.0      0.0  0.0  0.0     0.0  0.0  0.0  -0.0      -0.0\n",
       "  0.0      0.0  0.0      0.0  0.0  0.0     0.0  0.0  0.0  -0.0      -0.0\n",
       "  0.0      0.0  0.0      0.0  0.0  0.0     0.0  0.0  0.0  -0.0      -0.0\n",
       "  0.0      0.0  0.0      0.0  0.0  0.0  …  0.0  0.0  0.0  -0.0      -0.0\n",
       "  0.0      0.0  0.0      0.0  0.0  0.0     0.0  0.0  0.0  -0.0      -0.0\n",
       "  0.0      0.0  0.0      0.0  0.0  0.0     0.0  0.0  0.0  -0.0      -0.0\n",
       "  0.0      0.0  0.0      0.0  0.0  0.0     0.0  0.0  0.0  -0.0      -0.0\n",
       "  0.0      0.0  0.0      0.0  0.0  0.0     0.0  0.0  0.0  -0.0      -0.0\n",
       "  0.0      0.0  0.0      0.0  0.0  0.0  …  0.0  0.0  0.0  -0.0      -0.0\n",
       "  0.0      0.0  0.0      0.0  0.0  0.0     1.0  0.0  0.0  -0.0      -0.0\n",
       "  0.0      0.0  0.0      0.0  0.0  0.0     0.0  0.0  0.0  -0.0      -0.0\n",
       "  0.0      0.0  0.0      0.0  0.0  0.0     0.0  0.0  1.0  -0.0      -0.0\n",
       "  0.0      0.0  0.0      0.0  0.0  0.0     0.0  0.0  0.0  -0.0      -0.0\n",
       " -1.0      0.0  1.0      0.0  0.0  0.0  …  0.0  0.0  0.0  -1.73205  -2.0\n",
       " -1.73205  0.0  1.73205  0.0  0.0  0.0     0.0  0.0  0.0   1.0      -1.73205"
      ]
     },
     "execution_count": 96,
     "metadata": {},
     "output_type": "execute_result"
    }
   ],
   "source": [
    "A1"
   ]
  },
  {
   "cell_type": "code",
   "execution_count": 98,
   "id": "0b587784-8c7e-469b-bb48-1986f2746d1b",
   "metadata": {},
   "outputs": [
    {
     "data": {
      "text/plain": [
       "16-element Vector{ComplexF64}:\n",
       " 0.0 + 0.0im\n",
       " 0.0 + 0.0im\n",
       " 0.0 + 0.0im\n",
       " 0.0 + 0.0im\n",
       " 0.0 + 0.0im\n",
       " 0.0 + 0.0im\n",
       " 0.0 + 0.0im\n",
       " 0.0 + 0.0im\n",
       " 0.0 + 0.0im\n",
       " 0.0 + 0.0im\n",
       " 0.0 + 0.0im\n",
       " 0.0 + 0.0im\n",
       " 0.0 + 0.0im\n",
       " 0.0 + 0.0im\n",
       " 0.0 + 0.0im\n",
       " 0.0 + 0.0im"
      ]
     },
     "execution_count": 98,
     "metadata": {},
     "output_type": "execute_result"
    }
   ],
   "source": [
    "fixed_modes(A1, [ssd.B[Block(2)]; zeros(2, 1)], [ssd.C[Block(2)] zeros(1, 2)])"
   ]
  },
  {
   "cell_type": "code",
   "execution_count": 99,
   "id": "5d43e899-d73c-4a5f-a0f0-1ba223f4d888",
   "metadata": {},
   "outputs": [
    {
     "name": "stdout",
     "output_type": "stream",
     "text": [
      "c2 = StateSpace{Continuous, Float64}\n",
      "A = \n",
      " -2.236278925189659   4.000471715623707   -0.15295134181409836  -0.031386600007709604   1.2042261936045109   -2.0230451678677297\n",
      " -1.0                -4.09986580571708     0.0                   0.0                   -2.0081018486359246    0.4120095529560263\n",
      "  0.0                -1.4847441110333512  -2.1650635094610973    0.8884278944919166    -1.530086241032466     1.211566073781041\n",
      "  0.0                 0.8946848229851884  -2.4622144504490273   -1.1561885545369572     0.20821865615082907  -1.210888573447794\n",
      "  0.0                 1.8841793944729694   0.0                  -0.7181061759698143     1.0570297036970606    0.4645587289779854\n",
      "  0.0                -0.5515468562930422   0.0                   0.0                   -0.32698192671333753  -0.22158706456421445\n",
      "B = \n",
      " -1.0000000000000009\n",
      "  2.04993290285854\n",
      " -0.2576279444833246\n",
      " -0.4473424114925942\n",
      " -0.9420896972364847\n",
      "  0.2757734281465211\n",
      "C = \n",
      " -2.236278925189659  2.000471715623705  -0.15295134181409836  -0.031386600007709604  0.22463225380496038  -1.822058319770654\n",
      "D = \n",
      " 0.0\n",
      "\n",
      "Continuous-time state-space model\n"
     ]
    },
    {
     "data": {
      "text/plain": [
       "28×28 Matrix{Float64}:\n",
       "  0.0       1.0   0.0       0.0  …  -0.0        -0.0       -0.0\n",
       "  0.0       0.0   0.0       0.0     -0.0        -0.0       -0.0\n",
       "  0.0       0.0   0.0       1.0     -0.0        -0.0       -0.0\n",
       "  0.0       0.0   0.0       0.0      0.0313866  -0.224632   1.82206\n",
       "  0.0       0.0   0.0       0.0     -0.0        -0.0       -0.0\n",
       "  0.0       0.0   0.0       0.0  …  -0.0        -0.0       -0.0\n",
       "  0.0       0.0   0.0       0.0     -0.0        -0.0       -0.0\n",
       "  0.0       0.0   0.0       0.0     -0.0        -0.0       -0.0\n",
       "  0.0       0.0   0.0       0.0     -0.0        -0.0       -0.0\n",
       "  0.0       0.0   0.0       0.0     -0.0        -0.0       -0.0\n",
       "  0.0       0.0   0.0       0.0  …  -0.0        -0.0       -0.0\n",
       "  0.0       0.0   0.0       0.0     -0.0        -0.0       -0.0\n",
       "  0.0       0.0   0.0       0.0     -0.0        -0.0       -0.0\n",
       "  ⋮                              ⋱   ⋮                     \n",
       "  0.0       0.0   0.0       0.0     -0.0        -0.0       -0.0\n",
       "  0.0       0.0   0.0       0.0     -0.0        -0.0       -0.0\n",
       "  0.0       0.0   0.0       0.0     -0.0        -0.0       -0.0\n",
       "  0.0       0.0   0.0       0.0     -0.0        -0.0       -0.0\n",
       " -1.0       0.0   1.0       0.0  …  -0.0        -0.0       -0.0\n",
       " -1.73205   0.0   1.73205   0.0     -0.0        -0.0       -0.0\n",
       "  1.0       0.0  -2.0       0.0     -0.0313866   1.20423   -2.02305\n",
       " -2.04993   0.0   4.09987   0.0      0.0        -2.0081     0.41201\n",
       "  0.257628  0.0  -0.515256  0.0      0.888428   -1.53009    1.21157\n",
       "  0.447342  0.0  -0.894685  0.0  …  -1.15619     0.208219  -1.21089\n",
       "  0.94209   0.0  -1.88418   0.0     -0.718106    1.05703    0.464559\n",
       " -0.275773  0.0   0.551547  0.0      0.0        -0.326982  -0.221587"
      ]
     },
     "execution_count": 99,
     "metadata": {},
     "output_type": "execute_result"
    }
   ],
   "source": [
    "c2, s2 = DistributedControlSystems.local_controller_and_closed_sys(ssd, 2, A1)\n",
    "A2 = s2.A\n",
    "@show c2\n",
    "A2"
   ]
  },
  {
   "cell_type": "code",
   "execution_count": 77,
   "id": "93dfce48-e98a-4bf7-95b9-3a5dccda7f07",
   "metadata": {},
   "outputs": [
    {
     "data": {
      "text/plain": [
       "22×1 Matrix{Float64}:\n",
       "  28.00515477614499\n",
       "   0.2923418550385861\n",
       "   0.0\n",
       "   0.0\n",
       "   0.0\n",
       "   0.0\n",
       "   0.0\n",
       "   0.0\n",
       "   0.0\n",
       "   0.0\n",
       "   0.0\n",
       "   0.0\n",
       "   0.0\n",
       "   0.0\n",
       "   0.0\n",
       "   0.0\n",
       "   0.0\n",
       "   0.0\n",
       "   0.0\n",
       "   0.0\n",
       "  -0.5602910474696472\n",
       " -28.737205583713887"
      ]
     },
     "execution_count": 77,
     "metadata": {},
     "output_type": "execute_result"
    }
   ],
   "source": [
    "sum(ctrb(s1), dims=2)"
   ]
  },
  {
   "cell_type": "code",
   "execution_count": 78,
   "id": "c2439976-9ec7-4357-9068-394adf17ec73",
   "metadata": {},
   "outputs": [
    {
     "data": {
      "text/plain": [
       "28×1 Matrix{Float64}:\n",
       " -2.5396156955544563e10\n",
       "  6.329426318216775e10\n",
       "  2.7991813249534378e10\n",
       " -6.98317259172932e10\n",
       "  0.0\n",
       "  0.0\n",
       "  0.0\n",
       "  0.0\n",
       "  0.0\n",
       "  0.0\n",
       "  0.0\n",
       "  0.0\n",
       "  0.0\n",
       "  ⋮\n",
       "  0.0\n",
       "  0.0\n",
       "  0.0\n",
       "  0.0\n",
       " -8.732823088799321e10\n",
       " -6.600634182029927e9\n",
       "  8.434800239661188e10\n",
       "  4.056664482593897e9\n",
       "  3.774424091685689e10\n",
       "  8.501634094522588e10\n",
       "  3.711458945288602e10\n",
       " -3.551042621425168e9"
      ]
     },
     "execution_count": 78,
     "metadata": {},
     "output_type": "execute_result"
    }
   ],
   "source": [
    "sum(ctrb(s2), dims=2)"
   ]
  },
  {
   "cell_type": "code",
   "execution_count": 103,
   "id": "9fab3a9a-0068-42cf-955d-366a39ac5bec",
   "metadata": {},
   "outputs": [
    {
     "data": {
      "text/plain": [
       "StateSpace{Continuous, Float64}\n",
       "A = \n",
       " -2.236278925189659   4.000471715623707   -0.15295134181409836  -0.031386600007709604   1.2042261936045109   -2.0230451678677297\n",
       " -1.0                -4.09986580571708     0.0                   0.0                   -2.0081018486359246    0.4120095529560263\n",
       "  0.0                -1.4847441110333512  -2.1650635094610973    0.8884278944919166    -1.530086241032466     1.211566073781041\n",
       "  0.0                 0.8946848229851884  -2.4622144504490273   -1.1561885545369572     0.20821865615082907  -1.210888573447794\n",
       "  0.0                 1.8841793944729694   0.0                  -0.7181061759698143     1.0570297036970606    0.4645587289779854\n",
       "  0.0                -0.5515468562930422   0.0                   0.0                   -0.32698192671333753  -0.22158706456421445\n",
       "B = \n",
       " -1.0000000000000009\n",
       "  2.04993290285854\n",
       " -0.2576279444833246\n",
       " -0.4473424114925942\n",
       " -0.9420896972364847\n",
       "  0.2757734281465211\n",
       "C = \n",
       " -2.236278925189659  2.000471715623705  -0.15295134181409836  -0.031386600007709604  0.22463225380496038  -1.822058319770654\n",
       "D = \n",
       " 0.0\n",
       "\n",
       "Continuous-time state-space model"
      ]
     },
     "execution_count": 103,
     "metadata": {},
     "output_type": "execute_result"
    }
   ],
   "source": [
    "k = 2\n",
    "Ak = A1\n",
    "B = ssd.B[Block(k)]\n",
    "m = size(Ak, 1) - size(B, 1)\n",
    "Bk = [\n",
    "    B\n",
    "    zeros(m, size(B, 2))\n",
    "]\n",
    "C = ssd.C[Block(k)]\n",
    "n = size(Ak, 2) - size(C, 2)\n",
    "Ck = [C zeros(size(C, 1), n)]\n",
    "\n",
    "sys = ss(Ak, Bk, Ck, 0)\n",
    "local_controller = DistributedControlSystems.robust_controller(sys)"
   ]
  },
  {
   "cell_type": "code",
   "execution_count": 106,
   "id": "4f4942a7-43f8-46a5-94e5-e9fae3ea7e7a",
   "metadata": {},
   "outputs": [
    {
     "data": {
      "text/plain": [
       "StateSpace{Continuous, Float64}\n",
       "A = \n",
       "  0.0   0.0                  0.0                  0.0                  0.0                    0.0\n",
       " -1.0   0.0                  0.0                  0.0                  0.0                    0.0\n",
       "  0.0  -2.0000000000000004  -2.1650635094610973   0.8884278944919166  -1.7824570141713456     1.2633459023244726\n",
       "  0.0   0.0                 -2.4622144504490273  -1.1561885545369572  -0.22999525916263264   -1.1209786321417528\n",
       "  0.0   0.0                  0.0                 -0.7181061759698143   0.1341643455366075     0.6539063678502746\n",
       "  0.0   0.0                  0.0                  0.0                 -0.056835947743258876  -0.27701389667630905\n",
       "B = \n",
       " -1.0\n",
       "  0.0\n",
       "  0.0\n",
       "  0.0\n",
       "  0.0\n",
       "  0.0\n",
       "C = \n",
       " 0.0  2.0  0.0  0.0  0.9795939397995497  -0.20098684809707545\n",
       "D = \n",
       " 0.0\n",
       "\n",
       "Continuous-time state-space model"
      ]
     },
     "execution_count": 106,
     "metadata": {},
     "output_type": "execute_result"
    }
   ],
   "source": [
    "reduced_system = sys |> minreal2"
   ]
  },
  {
   "cell_type": "code",
   "execution_count": 109,
   "id": "d3bba64d-3237-4f84-ad89-04fe7b810f90",
   "metadata": {},
   "outputs": [
    {
     "data": {
      "text/plain": [
       "6-element Vector{ComplexF64}:\n",
       " -0.8660254420519817 - 0.4999999859012462im\n",
       " -0.8660254420519817 + 0.4999999859012462im\n",
       " -0.8660253655168982 - 0.5000000140987594im\n",
       " -0.8660253655168982 + 0.5000000140987594im\n",
       "                 0.0 + 0.0im\n",
       "                 0.0 + 0.0im"
      ]
     },
     "execution_count": 109,
     "metadata": {},
     "output_type": "execute_result"
    }
   ],
   "source": [
    "reduced_system.A |> eigvals"
   ]
  },
  {
   "cell_type": "code",
   "execution_count": 114,
   "id": "17737fa7-a9f8-41ce-affd-16395cf80a8f",
   "metadata": {},
   "outputs": [
    {
     "data": {
      "text/plain": [
       "ExtendedStateSpace{Continuous, Float64}\n",
       "A = \n",
       "  0.0   0.0                  0.0                  0.0                  0.0                    0.0\n",
       " -1.0   0.0                  0.0                  0.0                  0.0                    0.0\n",
       "  0.0  -2.0000000000000004  -2.1650635094610973   0.8884278944919166  -1.7824570141713456     1.2633459023244726\n",
       "  0.0   0.0                 -2.4622144504490273  -1.1561885545369572  -0.22999525916263264   -1.1209786321417528\n",
       "  0.0   0.0                  0.0                 -0.7181061759698143   0.1341643455366075     0.6539063678502746\n",
       "  0.0   0.0                  0.0                  0.0                 -0.056835947743258876  -0.27701389667630905\n",
       "B1 = \n",
       " -1.0\n",
       "  0.0\n",
       "  0.0\n",
       "  0.0\n",
       "  0.0\n",
       "  0.0\n",
       "B2 = \n",
       " -1.0\n",
       "  0.0\n",
       "  0.0\n",
       "  0.0\n",
       "  0.0\n",
       "  0.0\n",
       "C1 = \n",
       " 0.0  2.0  0.0  0.0  0.9795939397995497  -0.20098684809707545\n",
       "C2 = \n",
       " 0.0  2.0  0.0  0.0  0.9795939397995497  -0.20098684809707545\n",
       "D11 = \n",
       " 0.0\n",
       "D12 = \n",
       " 0.0\n",
       "D21 = \n",
       " 0.0\n",
       "D22 = \n",
       " 0.0\n",
       "Continuous-time extended state-space model"
      ]
     },
     "execution_count": 114,
     "metadata": {},
     "output_type": "execute_result"
    }
   ],
   "source": [
    "extended_system = ExtendedStateSpace(reduced_system)"
   ]
  },
  {
   "cell_type": "code",
   "execution_count": 118,
   "id": "df57a0b2-7940-4cf5-be00-e4dae92cc56a",
   "metadata": {},
   "outputs": [
    {
     "data": {
      "text/plain": [
       "LQGProblem(ExtendedStateSpace{Continuous, Float64}\n",
       "A = \n",
       "  0.0   0.0                  0.0                  0.0                  0.0                    0.0\n",
       " -1.0   0.0                  0.0                  0.0                  0.0                    0.0\n",
       "  0.0  -2.0000000000000004  -2.1650635094610973   0.8884278944919166  -1.7824570141713456     1.2633459023244726\n",
       "  0.0   0.0                 -2.4622144504490273  -1.1561885545369572  -0.22999525916263264   -1.1209786321417528\n",
       "  0.0   0.0                  0.0                 -0.7181061759698143   0.1341643455366075     0.6539063678502746\n",
       "  0.0   0.0                  0.0                  0.0                 -0.056835947743258876  -0.27701389667630905\n",
       "B1 = \n",
       " -1.0\n",
       "  0.0\n",
       "  0.0\n",
       "  0.0\n",
       "  0.0\n",
       "  0.0\n",
       "B2 = \n",
       " -1.0\n",
       "  0.0\n",
       "  0.0\n",
       "  0.0\n",
       "  0.0\n",
       "  0.0\n",
       "C1 = \n",
       " 0.0  2.0  0.0  0.0  0.9795939397995497  -0.20098684809707545\n",
       "C2 = \n",
       " 0.0  2.0  0.0  0.0  0.9795939397995497  -0.20098684809707545\n",
       "D11 = \n",
       " 0.0\n",
       "D12 = \n",
       " 0.0\n",
       "D21 = \n",
       " 0.0\n",
       "D22 = \n",
       " 0.0\n",
       "Continuous-time extended state-space model, Bool[1;;], Bool[1;;], Bool[1;;], Bool[1;;], 0, 0, [0.0; 0.0; … ; 0.0; 0.0;;], [0.0; 0.0; … ; 0.0; 0.0;;])"
      ]
     },
     "execution_count": 118,
     "metadata": {},
     "output_type": "execute_result"
    }
   ],
   "source": [
    "lqg = LQGProblem(extended_system, I(1), I(1), I(1), I(1))"
   ]
  },
  {
   "cell_type": "code",
   "execution_count": 119,
   "id": "8b1202be-4122-4ccd-8381-5c1ac0d217c1",
   "metadata": {},
   "outputs": [
    {
     "data": {
      "text/plain": [
       "StateSpace{Continuous, Float64}\n",
       "A = \n",
       " -1.8433665258726637   3.699000074353929      0.24641266014171792  -0.2881057825945479   1.8545655428786625     0.5857154014088015\n",
       " -1.0                 -1.9359511088686796     0.0                   0.0                 -0.9482229869979883     0.19455035572077706\n",
       "  0.0                 -1.1121473713743197    -2.1650635094610973    0.8884278944919166  -1.3475894869529372     1.1741225516233833\n",
       "  0.0                 -0.8159183561170631    -2.4622144504490273   -1.1561885545369572  -0.6296295976743755    -1.0389842027914948\n",
       "  0.0                  0.18931988984258943    0.0                  -0.7181061759698143   0.22689265392326696    0.6348809638795008\n",
       "  0.0                  0.001430196970694071   0.0                   0.0                 -0.056135441600653084  -0.27715762206695793\n",
       "B = \n",
       " -1.0000000000000007\n",
       "  0.9679755544343398\n",
       " -0.44392631431284035\n",
       "  0.40795917805853155\n",
       " -0.09465994492129472\n",
       " -0.0007150984853470355\n",
       "C = \n",
       " -1.8433665258726637  1.6990000743539277  0.24641266014171792  -0.2881057825945479  0.8749716030791121  0.7867022495058771\n",
       "D = \n",
       " 0.0\n",
       "\n",
       "Continuous-time state-space model"
      ]
     },
     "execution_count": 119,
     "metadata": {},
     "output_type": "execute_result"
    }
   ],
   "source": [
    "clqg = observer_controller(lqg)"
   ]
  },
  {
   "cell_type": "code",
   "execution_count": 124,
   "id": "198fab49-a7f1-4962-b0c1-fc8edb9b465b",
   "metadata": {},
   "outputs": [
    {
     "data": {
      "text/plain": [
       "StateSpace{Continuous, Float64}\n",
       "A = \n",
       "  0.0   0.0                    0.0                  0.0                  0.0                     0.0                      1.8433665258726637  -1.6990000743539277    -0.24641266014171792   0.2881057825945479  -0.8749716030791121    -0.7867022495058771\n",
       " -1.0   0.0                    0.0                  0.0                  0.0                     0.0                      0.0                  0.0                    0.0                   0.0                  0.0                    0.0\n",
       "  0.0  -2.0000000000000004    -2.1650635094610973   0.8884278944919166  -1.7824570141713456      1.2633459023244726       0.0                  0.0                    0.0                   0.0                  0.0                    0.0\n",
       "  0.0   0.0                   -2.4622144504490273  -1.1561885545369572  -0.22999525916263264    -1.1209786321417528       0.0                  0.0                    0.0                   0.0                  0.0                    0.0\n",
       "  0.0   0.0                    0.0                 -0.7181061759698143   0.1341643455366075      0.6539063678502746       0.0                  0.0                    0.0                   0.0                  0.0                    0.0\n",
       "  0.0   0.0                    0.0                  0.0                 -0.056835947743258876   -0.27701389667630905      0.0                  0.0                    0.0                   0.0                  0.0                    0.0\n",
       "  0.0   2.0000000000000013     0.0                  0.0                  0.9795939397995503     -0.2009868480970756      -1.8433665258726637   3.699000074353929      0.24641266014171792  -0.2881057825945479   1.8545655428786625     0.5857154014088015\n",
       "  0.0  -1.9359511088686796     0.0                  0.0                 -0.9482229869979883      0.19455035572077706     -1.0                 -1.9359511088686796     0.0                   0.0                 -0.9482229869979883     0.19455035572077706\n",
       "  0.0   0.8878526286256807     0.0                  0.0                  0.4348675272184085     -0.08922335070108942      0.0                 -1.1121473713743197    -2.1650635094610973    0.8884278944919166  -1.3475894869529372     1.1741225516233833\n",
       "  0.0  -0.8159183561170631     0.0                  0.0                 -0.3996343385117429      0.08199442935025784      0.0                 -0.8159183561170631    -2.4622144504490273   -1.1561885545369572  -0.6296295976743755    -1.0389842027914948\n",
       "  0.0   0.18931988984258943    0.0                  0.0                  0.09272830838665946    -0.01902540397077379      0.0                  0.18931988984258943    0.0                  -0.7181061759698143   0.22689265392326696    0.6348809638795008\n",
       "  0.0   0.001430196970694071   0.0                  0.0                  0.0007005061426057931  -0.00014372539064889337   0.0                  0.001430196970694071   0.0                   0.0                 -0.056135441600653084  -0.27715762206695793\n",
       "B = \n",
       "  0.0\n",
       "  0.0\n",
       "  0.0\n",
       "  0.0\n",
       "  0.0\n",
       "  0.0\n",
       " -1.0000000000000007\n",
       "  0.9679755544343398\n",
       " -0.44392631431284035\n",
       "  0.40795917805853155\n",
       " -0.09465994492129472\n",
       " -0.0007150984853470355\n",
       "C = \n",
       " 0.0  2.0  0.0  0.0  0.9795939397995497  -0.20098684809707545  0.0  0.0  0.0  0.0  0.0  0.0\n",
       "D = \n",
       " 0.0\n",
       "\n",
       "Continuous-time state-space model"
      ]
     },
     "execution_count": 124,
     "metadata": {},
     "output_type": "execute_result"
    }
   ],
   "source": [
    "feedback(reduced_system * clqg)"
   ]
  },
  {
   "cell_type": "code",
   "execution_count": 167,
   "id": "5831fd2c-b724-4b67-b982-0e5435fc16fa",
   "metadata": {},
   "outputs": [],
   "source": [
    "# Сделать выделение нулевой динамики\n",
    "# Добавить супер-твистинг?"
   ]
  },
  {
   "cell_type": "code",
   "execution_count": 237,
   "id": "53636559-b894-43b2-898e-6089e08567b3",
   "metadata": {},
   "outputs": [
    {
     "data": {
      "text/plain": [
       "(StateSpace{Continuous, Float64}\n",
       "A = \n",
       "  2.2575304447792737e-15   1.000000000000009       -6.863004913946304e-15   -3.566704091760069e-15   -3.082608053611384e-15   -2.495449921460907e-15\n",
       " -1.941118264790306e-15   -2.8186038728740023e-15   1.0000000000000018       6.461343385004182e-16    9.514706468837945e-16    6.957575307680287e-16\n",
       "  3.0129177767207246e-15   1.5304127922090057e-16  -1.6634733491587974e-17   0.9999999999999999       1.0069335839344905e-16  -1.8476141170789822e-17\n",
       " -4.411873903920122e-15    2.674273310084397e-16    9.138839663987617e-16    5.630825549967621e-16    1.0000000000000002       5.1284823880668084e-17\n",
       "  4.527765063402887e-15   -2.0984955481576198e-15  -4.000263044241811e-15   -2.2204460492502914e-16  -1.3322676295501878e-15   1.0\n",
       " -2.654105094820774e-15    6.687785577534812e-15   -0.9999999999999928      -3.464101615137755       -5.000000000000001       -3.464101615137757\n",
       "B = \n",
       "  2.7619295370235415e-16\n",
       " -7.650928633962859e-17\n",
       "  1.0929317211635208e-17\n",
       " -3.808562412782764e-17\n",
       "  6.612887467635072e-17\n",
       "  1.0\n",
       "C = \n",
       " 1.0000000000000027  3.4641016151377575  10.000000000000007  6.928203230275512  2.0  0.0\n",
       "D = \n",
       " 0.0\n",
       "\n",
       "Continuous-time state-space model, [0.0 -1.000000000000003 … -3.464101615137756 -1.0; 1.000000000000003 3.4641016151377575 … 1.0 0.0; … ; -0.9795939397995526 -3.5362628068591384 … 0.0 0.0; 0.20098684809707595 0.0 … 0.0 0.0])"
      ]
     },
     "execution_count": 237,
     "metadata": {},
     "output_type": "execute_result"
    }
   ],
   "source": [
    "reduced_system |> control_form"
   ]
  },
  {
   "cell_type": "code",
   "execution_count": 238,
   "id": "4cac31a0-20a2-4569-a2b6-2ea2e6068231",
   "metadata": {},
   "outputs": [
    {
     "data": {
      "text/plain": [
       "(2, 2.0)"
      ]
     },
     "execution_count": 238,
     "metadata": {},
     "output_type": "execute_result"
    }
   ],
   "source": [
    "relative_degree(control_form(reduced_system)[1])"
   ]
  },
  {
   "cell_type": "code",
   "execution_count": 261,
   "id": "59fc77e6-8b1c-447e-8ef7-66fa2541d47b",
   "metadata": {},
   "outputs": [
    {
     "name": "stdout",
     "output_type": "stream",
     "text": [
      "(i, n, r) = (1, 6, 2)\n",
      "(i, n, r) = (2, 6, 2)\n",
      "(i, n, r) = (3, 6, 2)\n",
      "(i, n, r) = (4, 6, 2)\n"
     ]
    },
    {
     "data": {
      "text/plain": [
       "StateSpace{Continuous, Float64}\n",
       "A = \n",
       " -5.234115801290986e-16    1.0000000000000007      -3.0350179111315914e-14  -1.0356386004634585e-14   5.56188404981673e-15    -2.495449921460907e-15\n",
       " -1.2117661951933087e-15  -6.399329559629989e-16    1.0000000000000078       2.220446049250306e-15   -1.4587041391939909e-15   6.957575307680287e-16\n",
       "  2.930569482288377e-15   -1.2298350994063954e-16  -8.081160625794418e-16    0.9999999999999994       1.6469658886469526e-16  -1.8476141170789822e-17\n",
       " -0.5000000000000058      -1.7320508075688787      -5.000000000000003       -3.4641016151377557       1.0                      5.1284823880668084e-17\n",
       "  2.220446049250313e-15    0.0                     -1.7763568394002505e-15   8.881784197001252e-16    0.0                      1.0\n",
       " -5.55005388396397e-15    -2.88657986402541e-15    -0.5000000000000078      -1.7320508075688745       1.5383701491068518e-15  -4.440892098500626e-16\n",
       "B = \n",
       "  2.7619295370235415e-16\n",
       " -7.650928633962859e-17\n",
       "  1.0929317211635208e-17\n",
       " -3.808562412782764e-17\n",
       " -5.5785056601052784e-18\n",
       "  1.0\n",
       "C = \n",
       " 0.0  0.0  0.0  0.0  2.0  0.0\n",
       "D = \n",
       " 0.0\n",
       "\n",
       "Continuous-time state-space model"
      ]
     },
     "execution_count": 261,
     "metadata": {},
     "output_type": "execute_result"
    }
   ],
   "source": [
    "s, P, r = reduced_system |> null_form\n",
    "s"
   ]
  },
  {
   "cell_type": "code",
   "execution_count": 262,
   "id": "46af1bab-25fe-4124-bf50-8c358245389f",
   "metadata": {},
   "outputs": [
    {
     "data": {
      "text/plain": [
       "TransferFunction{Continuous, ControlSystemsBase.SisoRational{Float64}}\n",
       "                           2.0s^4 + 6.928203230275514s^3 + 10.000000000000016s^2 + 3.464101615137771s + 1.0000000000000135\n",
       "-----------------------------------------------------------------------------------------------------------------------------------------------------\n",
       "1.0s^6 + 3.4641016151377575s^5 + 5.000000000000007s^4 + 3.464101615137759s^3 + 1.0000000000000084s^2 + 1.600070281607879e-15s + 5.376997488551975e-16\n",
       "\n",
       "Continuous-time transfer function model"
      ]
     },
     "execution_count": 262,
     "metadata": {},
     "output_type": "execute_result"
    }
   ],
   "source": [
    "tf(s)"
   ]
  },
  {
   "cell_type": "code",
   "execution_count": 263,
   "id": "60df5914-826c-4d1b-9c2e-7777b8fdc2ce",
   "metadata": {},
   "outputs": [
    {
     "data": {
      "text/plain": [
       "TransferFunction{Continuous, ControlSystemsBase.SisoRational{Float64}}\n",
       "      1.3322676295501878e-15s^5 + 2.0000000000000036s^4 + 6.928203230275517s^3 + 10.000000000000009s^2 + 3.4641016151377677s + 1.0000000000000113\n",
       "-------------------------------------------------------------------------------------------------------------------------------------------------------\n",
       "1.0s^6 + 3.4641016151377575s^5 + 5.000000000000006s^4 + 3.4641016151377597s^3 + 1.0000000000000078s^2 + 1.1758087211998893e-15s + 5.329012734979561e-16\n",
       "\n",
       "Continuous-time transfer function model"
      ]
     },
     "execution_count": 263,
     "metadata": {},
     "output_type": "execute_result"
    }
   ],
   "source": [
    "tf(control_form(reduced_system)[1])"
   ]
  },
  {
   "cell_type": "code",
   "execution_count": 264,
   "id": "80600583-6bef-43a6-bbfc-bb516d518656",
   "metadata": {},
   "outputs": [
    {
     "name": "stdout",
     "output_type": "stream",
     "text": [
      "(i, n, r) = (1, 6, 2)\n",
      "(i, n, r) = (2, 6, 2)\n",
      "(i, n, r) = (3, 6, 2)\n",
      "(i, n, r) = (4, 6, 2)\n"
     ]
    },
    {
     "data": {
      "text/plain": [
       "(StateSpace{Continuous, Float64}\n",
       "A = \n",
       " 0.0                      1.0\n",
       " 1.5383701491068518e-15  -4.440892098500626e-16\n",
       "B = \n",
       " -5.5785056601052784e-18\n",
       "  1.0\n",
       "C = \n",
       " 2.0  0.0\n",
       "D = \n",
       " 0.0\n",
       "\n",
       "Continuous-time state-space model, StateSpace{Continuous, Float64}\n",
       "A = \n",
       " -5.234115801290986e-16    1.0000000000000007      -3.0350179111315914e-14  -1.0356386004634585e-14\n",
       " -1.2117661951933087e-15  -6.399329559629989e-16    1.0000000000000078       2.220446049250306e-15\n",
       "  2.930569482288377e-15   -1.2298350994063954e-16  -8.081160625794418e-16    0.9999999999999994\n",
       " -0.5000000000000058      -1.7320508075688787      -5.000000000000003       -3.4641016151377557\n",
       "B = \n",
       " 0.0\n",
       " 0.0\n",
       " 0.0\n",
       " 0.5\n",
       "C = \n",
       " -5.55005388396397e-15  -2.88657986402541e-15  -0.5000000000000078  -1.7320508075688745\n",
       "D = \n",
       " 0.0\n",
       "\n",
       "Continuous-time state-space model)"
      ]
     },
     "execution_count": 264,
     "metadata": {},
     "output_type": "execute_result"
    }
   ],
   "source": [
    "y_null, x_null = reduced_system |> null_split"
   ]
  },
  {
   "cell_type": "code",
   "execution_count": 265,
   "id": "bd010fa1-f353-4f7c-a53c-97cfede26209",
   "metadata": {},
   "outputs": [
    {
     "data": {
      "text/plain": [
       "TransferFunction{Continuous, ControlSystemsBase.SisoRational{Float64}}\n",
       "                           2.0s^4 + 6.928203230275514s^3 + 10.000000000000016s^2 + 3.464101615137771s + 1.0000000000000135\n",
       "-----------------------------------------------------------------------------------------------------------------------------------------------------\n",
       "1.0s^6 + 3.4641016151377575s^5 + 5.000000000000007s^4 + 3.464101615137759s^3 + 1.0000000000000084s^2 + 1.600070281607879e-15s + 5.376997488551975e-16\n",
       "\n",
       "Continuous-time transfer function model"
      ]
     },
     "execution_count": 265,
     "metadata": {},
     "output_type": "execute_result"
    }
   ],
   "source": [
    "s |> tf"
   ]
  },
  {
   "cell_type": "code",
   "execution_count": 266,
   "id": "a2ae82f4-d02a-4b19-98cc-2e9029b425ac",
   "metadata": {},
   "outputs": [
    {
     "data": {
      "text/plain": [
       "TransferFunction{Continuous, ControlSystemsBase.SisoRational{Float64}}\n",
       "      1.3322676295501878e-15s^5 + 2.0000000000000027s^4 + 6.928203230275518s^3 + 10.00000000000002s^2 + 3.4641016151377717s + 1.000000000000016\n",
       "-----------------------------------------------------------------------------------------------------------------------------------------------------\n",
       "1.0s^6 + 3.464101615137758s^5 + 5.000000000000006s^4 + 3.464101615137757s^3 + 1.0000000000000109s^2 + 3.718083693221438e-15s + 3.0739597530142573e-16\n",
       "\n",
       "Continuous-time transfer function model"
      ]
     },
     "execution_count": 266,
     "metadata": {},
     "output_type": "execute_result"
    }
   ],
   "source": [
    "feedback(y_null, -x_null) |> tf"
   ]
  },
  {
   "cell_type": "code",
   "execution_count": 267,
   "id": "e39ba324-2e2a-44a8-b22a-7d028fd68f61",
   "metadata": {},
   "outputs": [
    {
     "data": {
      "text/plain": [
       "(Inf, 2.3118724428209306e-8)"
      ]
     },
     "execution_count": 267,
     "metadata": {},
     "output_type": "execute_result"
    }
   ],
   "source": [
    "hinfnorm(s)"
   ]
  },
  {
   "cell_type": "code",
   "execution_count": 268,
   "id": "3af4faf6-0ccc-4e10-a276-cbee52bbe371",
   "metadata": {},
   "outputs": [
    {
     "data": {
      "text/plain": [
       "(Inf, NaN)"
      ]
     },
     "execution_count": 268,
     "metadata": {},
     "output_type": "execute_result"
    }
   ],
   "source": [
    "hinfnorm2(y_null)"
   ]
  },
  {
   "cell_type": "code",
   "execution_count": 269,
   "id": "4eee977d-df0f-4f40-a3d3-5ecea7e4d34f",
   "metadata": {},
   "outputs": [
    {
     "data": {
      "text/plain": [
       "(0.28668722212445413, 1.8673474555735576)"
      ]
     },
     "execution_count": 269,
     "metadata": {},
     "output_type": "execute_result"
    }
   ],
   "source": [
    "hinfnorm2(x_null)"
   ]
  },
  {
   "cell_type": "code",
   "execution_count": 270,
   "id": "f2914dd3-5cb5-4aa5-bc66-58fde6ed825f",
   "metadata": {},
   "outputs": [
    {
     "data": {
      "text/plain": [
       "false"
      ]
     },
     "execution_count": 270,
     "metadata": {},
     "output_type": "execute_result"
    }
   ],
   "source": [
    "ispassive(x_null)"
   ]
  },
  {
   "cell_type": "code",
   "execution_count": 271,
   "id": "55a7ac82-d4ea-425f-bbf9-45650e7a825e",
   "metadata": {},
   "outputs": [
    {
     "data": {
      "text/plain": [
       "StateSpace{Continuous, Float64}\n",
       "A = \n",
       " -5.234115801290986e-16    1.0000000000000007      -3.0350179111315914e-14  -1.0356386004634585e-14\n",
       " -1.2117661951933087e-15  -6.399329559629989e-16    1.0000000000000078       2.220446049250306e-15\n",
       "  2.930569482288377e-15   -1.2298350994063954e-16  -8.081160625794418e-16    0.9999999999999994\n",
       " -0.5000000000000058      -1.7320508075688787      -5.000000000000003       -3.4641016151377557\n",
       "B = \n",
       " 0.0\n",
       " 0.0\n",
       " 0.0\n",
       " 0.5\n",
       "C = \n",
       " -5.55005388396397e-15  -2.88657986402541e-15  -0.5000000000000078  -1.7320508075688745\n",
       "D = \n",
       " 0.0\n",
       "\n",
       "Continuous-time state-space model"
      ]
     },
     "execution_count": 271,
     "metadata": {},
     "output_type": "execute_result"
    }
   ],
   "source": [
    "x_null"
   ]
  },
  {
   "cell_type": "code",
   "execution_count": 278,
   "id": "2bdae3c7-0890-4ca3-a962-c8fdb7c4c173",
   "metadata": {},
   "outputs": [
    {
     "data": {
      "text/plain": [
       "StateSpace{Continuous, Float64}\n",
       "A = \n",
       " -2.0000000000000044   1.0\n",
       " -4.000000000000002   -1.9999999999999991\n",
       "B = \n",
       " 1.0000000000000022\n",
       " 1.0000000000000013\n",
       "C = \n",
       " 2.0000000000000004  1.9999999999999987\n",
       "D = \n",
       " 0.0\n",
       "\n",
       "Continuous-time state-space model"
      ]
     },
     "execution_count": 278,
     "metadata": {},
     "output_type": "execute_result"
    }
   ],
   "source": [
    "y_lqg = LQGProblem(ExtendedStateSpace(y_null), I(1), I(1), I(1), I(1))\n",
    "y_controller = observer_controller(y_lqg)"
   ]
  },
  {
   "cell_type": "code",
   "execution_count": 281,
   "id": "cea2ffbf-c58c-4dbb-8843-9d928c8b0d98",
   "metadata": {},
   "outputs": [
    {
     "data": {
      "text/plain": [
       "8-element Vector{ComplexF64}:\n",
       "    -2.37980675582161 + 0.0im\n",
       "  -1.7373975891414013 + 1.567548439260726im\n",
       "  -1.7373975891414013 - 1.567548439260726im\n",
       "  -0.4164243310403128 + 1.626035499596816im\n",
       "  -0.4164243310403128 - 1.626035499596816im\n",
       " -0.11371370548206075 + 0.29369072335787816im\n",
       " -0.11371370548206075 - 0.29369072335787816im\n",
       "  -0.5492236079885957 + 0.0im"
      ]
     },
     "execution_count": 281,
     "metadata": {},
     "output_type": "execute_result"
    }
   ],
   "source": [
    "feedback(reduced_system, y_controller) |> poles"
   ]
  }
 ],
 "metadata": {
  "kernelspec": {
   "display_name": "Julia 1.9.0",
   "language": "julia",
   "name": "julia-1.9"
  },
  "language_info": {
   "file_extension": ".jl",
   "mimetype": "application/julia",
   "name": "julia",
   "version": "1.9.0"
  }
 },
 "nbformat": 4,
 "nbformat_minor": 5
}
