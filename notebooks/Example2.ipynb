{
 "cells": [
  {
   "cell_type": "markdown",
   "id": "38ef99c2-559a-4ea6-9377-ff0c14fcf240",
   "metadata": {},
   "source": [
    "# Problem 2.5"
   ]
  },
  {
   "cell_type": "markdown",
   "id": "93c76bb0-267e-4327-afbe-bf2bb57bd1cb",
   "metadata": {},
   "source": [
    "Find decentralized fixed modes (DFM)"
   ]
  },
  {
   "cell_type": "code",
   "execution_count": 1,
   "id": "d4b20e50-c9ec-4f06-89d8-72a6357d9c1a",
   "metadata": {},
   "outputs": [],
   "source": [
    "using ControlSystems\n",
    "using RobustAndOptimalControl\n",
    "using Plots\n",
    "using LinearAlgebra\n",
    "using DistributedControlSystems"
   ]
  },
  {
   "cell_type": "code",
   "execution_count": 2,
   "id": "f7681642-66de-48a5-b5cd-331d5b1c1abc",
   "metadata": {},
   "outputs": [
    {
     "data": {
      "text/plain": [
       "3"
      ]
     },
     "execution_count": 2,
     "metadata": {},
     "output_type": "execute_result"
    }
   ],
   "source": [
    "k = 2\n",
    "r = 3"
   ]
  },
  {
   "cell_type": "code",
   "execution_count": 3,
   "id": "1f71ea2d-ab77-4aa1-8e58-d8a746f0b92b",
   "metadata": {},
   "outputs": [
    {
     "data": {
      "text/plain": [
       "TransferFunction{Continuous, ControlSystemsBase.SisoRational{Int64}}\n",
       "  2\n",
       "-----\n",
       "s + 3\n",
       "\n",
       "Continuous-time transfer function model"
      ]
     },
     "execution_count": 3,
     "metadata": {},
     "output_type": "execute_result"
    }
   ],
   "source": [
    "W1 = tf(k, [1, r])"
   ]
  },
  {
   "cell_type": "code",
   "execution_count": 4,
   "id": "cbf1fdf2-207e-4b91-b4b0-d4e500c09e27",
   "metadata": {},
   "outputs": [
    {
     "data": {
      "text/plain": [
       "TransferFunction{Continuous, ControlSystemsBase.SisoRational{Int64}}\n",
       "1\n",
       "-\n",
       "s\n",
       "\n",
       "Continuous-time transfer function model"
      ]
     },
     "execution_count": 4,
     "metadata": {},
     "output_type": "execute_result"
    }
   ],
   "source": [
    "W2 = tf(1, [1, 0])"
   ]
  },
  {
   "cell_type": "code",
   "execution_count": 18,
   "id": "e09594b9-507d-4e79-bc35-91b03e6a87e3",
   "metadata": {},
   "outputs": [
    {
     "data": {
      "text/plain": [
       "StateSpace{Continuous, Float64}\n",
       "A = \n",
       " -3.0  0.0  0.0   0.0\n",
       "  0.0  0.0  0.0   0.0\n",
       "  0.0  0.0  0.0   0.0\n",
       "  0.0  0.0  0.0  -3.0\n",
       "B = \n",
       " 1.0  0.0\n",
       " 0.0  1.0\n",
       " 1.0  0.0\n",
       " 0.0  1.0\n",
       "C = \n",
       " 2.0  1.0  0.0  0.0\n",
       " 0.0  0.0  1.0  2.0\n",
       "D = \n",
       " 0.0  0.0\n",
       " 0.0  0.0\n",
       "\n",
       "Continuous-time state-space model"
      ]
     },
     "execution_count": 18,
     "metadata": {},
     "output_type": "execute_result"
    }
   ],
   "source": [
    "system = [ss([W1 W2]);  ss([W2 W1])]"
   ]
  },
  {
   "cell_type": "code",
   "execution_count": 36,
   "id": "eded64eb-18f0-4903-907c-5f38147e7018",
   "metadata": {},
   "outputs": [
    {
     "data": {
      "text/plain": [
       "StateSpaceDistributed{Matrix{Float64}, BlockArrays.BlockMatrix{Float64, Matrix{Matrix{Float64}}, Tuple{BlockArrays.BlockedUnitRange{Vector{Int64}}, BlockArrays.BlockedUnitRange{Vector{Int64}}}}, BlockArrays.BlockMatrix{Float64, Matrix{Matrix{Float64}}, Tuple{BlockArrays.BlockedUnitRange{Vector{Int64}}, BlockArrays.BlockedUnitRange{Vector{Int64}}}}, BlockArrays.BlockMatrix{Float64, Matrix{Matrix{Float64}}, Tuple{BlockArrays.BlockedUnitRange{Vector{Int64}}, BlockArrays.BlockedUnitRange{Vector{Int64}}}}}([-3.0 0.0 0.0 0.0; 0.0 0.0 0.0 0.0; 0.0 0.0 0.0 0.0; 0.0 0.0 0.0 -3.0], [1.0 0.0; 0.0 1.0; 1.0 0.0; 0.0 1.0], [2.0 1.0 0.0 0.0; 0.0 0.0 1.0 2.0], [0.0 0.0; 0.0 0.0])"
      ]
     },
     "execution_count": 36,
     "metadata": {},
     "output_type": "execute_result"
    }
   ],
   "source": [
    "Bs = Array.(eachcol(system.B))\n",
    "Cs = Array.(eachrow(system.C)) .|> permutedims\n",
    "\n",
    "ssd = StateSpaceDistributed(system.A, Bs, Cs)"
   ]
  },
  {
   "cell_type": "code",
   "execution_count": 37,
   "id": "dcbf79ae-85c0-448b-809a-d62c59ce9016",
   "metadata": {},
   "outputs": [
    {
     "data": {
      "text/plain": [
       "ComplexF64[]"
      ]
     },
     "execution_count": 37,
     "metadata": {},
     "output_type": "execute_result"
    }
   ],
   "source": [
    "fixed_modes(ssd)"
   ]
  },
  {
   "cell_type": "code",
   "execution_count": 38,
   "id": "15f2e1ae-f3e7-4fba-8570-edf620c4047f",
   "metadata": {},
   "outputs": [
    {
     "data": {
      "text/plain": [
       "StateSpaceDistributed{Matrix{Float64}, BlockArrays.BlockMatrix{Float64, Matrix{Matrix{Float64}}, Tuple{BlockArrays.BlockedUnitRange{Vector{Int64}}, BlockArrays.BlockedUnitRange{Vector{Int64}}}}, BlockArrays.BlockMatrix{Float64, Matrix{Matrix{Float64}}, Tuple{BlockArrays.BlockedUnitRange{Vector{Int64}}, BlockArrays.BlockedUnitRange{Vector{Int64}}}}, BlockArrays.BlockMatrix{Float64, Matrix{Matrix{Float64}}, Tuple{BlockArrays.BlockedUnitRange{Vector{Int64}}, BlockArrays.BlockedUnitRange{Vector{Int64}}}}}([-3.0 0.0 0.0 0.0; 0.0 0.0 0.0 0.0; 0.0 0.0 0.0 0.0; 0.0 0.0 0.0 -3.0], [0.0 1.0; 1.0 0.0; 0.0 1.0; 1.0 0.0], [2.0 1.0 0.0 0.0; 0.0 0.0 1.0 2.0], [0.0 0.0; 0.0 0.0])"
      ]
     },
     "execution_count": 38,
     "metadata": {},
     "output_type": "execute_result"
    }
   ],
   "source": [
    "ssd2 = StateSpaceDistributed(system.A, reverse(Bs), Cs)"
   ]
  },
  {
   "cell_type": "code",
   "execution_count": 39,
   "id": "49140f75-2c80-4404-b701-cf00608bd34f",
   "metadata": {},
   "outputs": [
    {
     "data": {
      "text/plain": [
       "ComplexF64[]"
      ]
     },
     "execution_count": 39,
     "metadata": {},
     "output_type": "execute_result"
    }
   ],
   "source": [
    "fixed_modes(ssd2)"
   ]
  },
  {
   "cell_type": "code",
   "execution_count": null,
   "id": "2a996766-6371-4cd0-a98e-a6c537ad7977",
   "metadata": {},
   "outputs": [],
   "source": []
  }
 ],
 "metadata": {
  "kernelspec": {
   "display_name": "Julia 1.9.0",
   "language": "julia",
   "name": "julia-1.9"
  },
  "language_info": {
   "file_extension": ".jl",
   "mimetype": "application/julia",
   "name": "julia",
   "version": "1.9.0"
  }
 },
 "nbformat": 4,
 "nbformat_minor": 5
}
